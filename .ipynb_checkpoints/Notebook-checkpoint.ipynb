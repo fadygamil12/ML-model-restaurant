{
 "cells": [
  {
   "cell_type": "markdown",
   "metadata": {},
   "source": [
    "# Egypt Restaurant Dataset"
   ]
  },
  {
   "cell_type": "code",
   "execution_count": 114,
   "metadata": {},
   "outputs": [],
   "source": [
    "# Packages for data processing \n",
    "import numpy as np\n",
    "import pandas as pd\n",
    "from matplotlib import pyplot as plt\n",
    "import matplotlib.pyplot as plt\n",
    "import seaborn as sns\n",
    "%matplotlib inline\n",
    "\n",
    "# Packages for ML Model\n",
    "from sklearn.ensemble import RandomForestClassifier\n",
    "from sklearn.svm import SVC\n",
    "from sklearn.model_selection import cross_val_score\n",
    "from sklearn.metrics import r2_score as er\n",
    "from sklearn.metrics import f1_score\n",
    "\n",
    "\n",
    "# Packages for DL Model \n",
    "\n",
    "import tensorflow as tf\n",
    "from sklearn.model_selection import train_test_split\n",
    "from tensorflow import keras\n",
    "from tensorflow.keras.callbacks import EarlyStopping\n"
   ]
  },
  {
   "cell_type": "markdown",
   "metadata": {},
   "source": [
    "### Load Data"
   ]
  },
  {
   "cell_type": "code",
   "execution_count": 56,
   "metadata": {},
   "outputs": [
    {
     "data": {
      "text/html": [
       "<div>\n",
       "<style scoped>\n",
       "    .dataframe tbody tr th:only-of-type {\n",
       "        vertical-align: middle;\n",
       "    }\n",
       "\n",
       "    .dataframe tbody tr th {\n",
       "        vertical-align: top;\n",
       "    }\n",
       "\n",
       "    .dataframe thead th {\n",
       "        text-align: right;\n",
       "    }\n",
       "</style>\n",
       "<table border=\"1\" class=\"dataframe\">\n",
       "  <thead>\n",
       "    <tr style=\"text-align: right;\">\n",
       "      <th></th>\n",
       "      <th>user_uuid</th>\n",
       "      <th>restaurant_uuid</th>\n",
       "      <th>discounted</th>\n",
       "      <th>area</th>\n",
       "      <th>nOrders</th>\n",
       "      <th>cuisine</th>\n",
       "      <th>restaurant_features</th>\n",
       "      <th>Ratings</th>\n",
       "    </tr>\n",
       "  </thead>\n",
       "  <tbody>\n",
       "    <tr>\n",
       "      <th>0</th>\n",
       "      <td>4f0181917069f1bf5259c04f14a944c49d461bab</td>\n",
       "      <td>bf5ee7c8457db4d32da6633baf7a047115d76af4</td>\n",
       "      <td>0</td>\n",
       "      <td>Heliopolis</td>\n",
       "      <td>1</td>\n",
       "      <td>['Egyptian' 'Oriental' 'Grill']</td>\n",
       "      <td>['No Smoking Area' 'Outdoor' 'TV' 'WiFi' 'Gril...</td>\n",
       "      <td>5</td>\n",
       "    </tr>\n",
       "    <tr>\n",
       "      <th>1</th>\n",
       "      <td>06c7a3629566f04e19611981d0fb30dabe8d8daa</td>\n",
       "      <td>a8f1c42a5b27f032bbd69821b3d9941939db1ecf</td>\n",
       "      <td>0</td>\n",
       "      <td>Haram</td>\n",
       "      <td>1</td>\n",
       "      <td>['Burgers' 'Sandwiches' 'Fast Food']</td>\n",
       "      <td>['No Smoking Area' 'Outdoor' 'WiFi' 'Kids-Frie...</td>\n",
       "      <td>4</td>\n",
       "    </tr>\n",
       "    <tr>\n",
       "      <th>2</th>\n",
       "      <td>966acbc0eaf5c2cda02a242ec9caf75f98119ef9</td>\n",
       "      <td>ef29eff86405a92b1b547b32e845497694f450c6</td>\n",
       "      <td>0</td>\n",
       "      <td>Maadi</td>\n",
       "      <td>3</td>\n",
       "      <td>['Egyptian' 'Oriental' 'Grill']</td>\n",
       "      <td>['No Smoking Area' 'Khorogat Iftar' 'Catering']</td>\n",
       "      <td>4</td>\n",
       "    </tr>\n",
       "    <tr>\n",
       "      <th>3</th>\n",
       "      <td>a910926f38c18c2e00a338c7d2f6e03ee78ea7a4</td>\n",
       "      <td>66ae2fbb6d1dfc1d3b07a68839db5da163eabe68</td>\n",
       "      <td>0</td>\n",
       "      <td>Faisal</td>\n",
       "      <td>1</td>\n",
       "      <td>['Pizza' 'Fast Food']</td>\n",
       "      <td>['24 hrs']</td>\n",
       "      <td>1</td>\n",
       "    </tr>\n",
       "    <tr>\n",
       "      <th>4</th>\n",
       "      <td>aa25b862b3f7fbd71425170343c53dcd93ec10c9</td>\n",
       "      <td>ef29eff86405a92b1b547b32e845497694f450c6</td>\n",
       "      <td>0</td>\n",
       "      <td>Maadi</td>\n",
       "      <td>1</td>\n",
       "      <td>['Egyptian' 'Oriental' 'Grill']</td>\n",
       "      <td>['No Smoking Area' 'Khorogat Iftar' 'Catering']</td>\n",
       "      <td>4</td>\n",
       "    </tr>\n",
       "  </tbody>\n",
       "</table>\n",
       "</div>"
      ],
      "text/plain": [
       "                                  user_uuid  \\\n",
       "0  4f0181917069f1bf5259c04f14a944c49d461bab   \n",
       "1  06c7a3629566f04e19611981d0fb30dabe8d8daa   \n",
       "2  966acbc0eaf5c2cda02a242ec9caf75f98119ef9   \n",
       "3  a910926f38c18c2e00a338c7d2f6e03ee78ea7a4   \n",
       "4  aa25b862b3f7fbd71425170343c53dcd93ec10c9   \n",
       "\n",
       "                            restaurant_uuid  discounted        area  nOrders  \\\n",
       "0  bf5ee7c8457db4d32da6633baf7a047115d76af4           0  Heliopolis        1   \n",
       "1  a8f1c42a5b27f032bbd69821b3d9941939db1ecf           0       Haram        1   \n",
       "2  ef29eff86405a92b1b547b32e845497694f450c6           0       Maadi        3   \n",
       "3  66ae2fbb6d1dfc1d3b07a68839db5da163eabe68           0      Faisal        1   \n",
       "4  ef29eff86405a92b1b547b32e845497694f450c6           0       Maadi        1   \n",
       "\n",
       "                                cuisine  \\\n",
       "0       ['Egyptian' 'Oriental' 'Grill']   \n",
       "1  ['Burgers' 'Sandwiches' 'Fast Food']   \n",
       "2       ['Egyptian' 'Oriental' 'Grill']   \n",
       "3                 ['Pizza' 'Fast Food']   \n",
       "4       ['Egyptian' 'Oriental' 'Grill']   \n",
       "\n",
       "                                 restaurant_features  Ratings  \n",
       "0  ['No Smoking Area' 'Outdoor' 'TV' 'WiFi' 'Gril...        5  \n",
       "1  ['No Smoking Area' 'Outdoor' 'WiFi' 'Kids-Frie...        4  \n",
       "2    ['No Smoking Area' 'Khorogat Iftar' 'Catering']        4  \n",
       "3                                         ['24 hrs']        1  \n",
       "4    ['No Smoking Area' 'Khorogat Iftar' 'Catering']        4  "
      ]
     },
     "execution_count": 56,
     "metadata": {},
     "output_type": "execute_result"
    }
   ],
   "source": [
    "data=pd.read_csv('train.csv')\n",
    "data.head()"
   ]
  },
  {
   "cell_type": "code",
   "execution_count": 57,
   "metadata": {},
   "outputs": [
    {
     "data": {
      "text/plain": [
       "(79395, 8)"
      ]
     },
     "execution_count": 57,
     "metadata": {},
     "output_type": "execute_result"
    }
   ],
   "source": [
    "data.shape"
   ]
  },
  {
   "cell_type": "code",
   "execution_count": 58,
   "metadata": {},
   "outputs": [
    {
     "data": {
      "text/plain": [
       "Index(['user_uuid', 'restaurant_uuid', 'discounted', 'area', 'nOrders',\n",
       "       'cuisine', 'restaurant_features', 'Ratings'],\n",
       "      dtype='object')"
      ]
     },
     "execution_count": 58,
     "metadata": {},
     "output_type": "execute_result"
    }
   ],
   "source": [
    "data.columns"
   ]
  },
  {
   "cell_type": "code",
   "execution_count": 60,
   "metadata": {},
   "outputs": [
    {
     "data": {
      "text/plain": [
       "user_uuid              object\n",
       "restaurant_uuid        object\n",
       "discounted              int64\n",
       "area                   object\n",
       "nOrders                 int64\n",
       "cuisine                object\n",
       "restaurant_features    object\n",
       "Ratings                 int64\n",
       "dtype: object"
      ]
     },
     "execution_count": 60,
     "metadata": {},
     "output_type": "execute_result"
    }
   ],
   "source": [
    "data.dtypes\n"
   ]
  },
  {
   "cell_type": "code",
   "execution_count": 61,
   "metadata": {},
   "outputs": [
    {
     "data": {
      "text/plain": [
       "user_uuid              0\n",
       "restaurant_uuid        0\n",
       "discounted             0\n",
       "area                   0\n",
       "nOrders                0\n",
       "cuisine                0\n",
       "restaurant_features    0\n",
       "Ratings                0\n",
       "dtype: int64"
      ]
     },
     "execution_count": 61,
     "metadata": {},
     "output_type": "execute_result"
    }
   ],
   "source": [
    "data.isnull().sum()\n"
   ]
  },
  {
   "cell_type": "code",
   "execution_count": 62,
   "metadata": {},
   "outputs": [
    {
     "data": {
      "text/plain": [
       "array([\"['Egyptian' 'Oriental' 'Grill']\",\n",
       "       \"['Burgers' 'Sandwiches' 'Fast Food']\", \"['Pizza' 'Fast Food']\",\n",
       "       \"['Pizza' 'Oriental' 'Sandwiches' 'Grill']\",\n",
       "       \"['Sandwiches' 'Bakeries and Pastries']\", \"['Fast Food']\",\n",
       "       \"['Egyptian' 'Sandwiches']\",\n",
       "       \"['Egyptian' 'Oriental' 'Foul we Ta3meya']\",\n",
       "       \"['Pizza' 'Egyptian']\", \"['Bakeries and Pastries' 'Desserts']\",\n",
       "       \"['Fast Food' 'Chicken']\", \"['Oriental']\", \"['Grill' 'Syrian']\",\n",
       "       \"['Burgers' 'Sandwiches']\", \"['International']\",\n",
       "       \"['Egyptian' 'Fast Food']\",\n",
       "       \"['Oriental' 'Sandwiches' 'Fast Food' 'Vegetarian']\",\n",
       "       \"['Egyptian' 'Koshary']\", \"['Sandwiches' 'Fast Food' 'Grill']\",\n",
       "       \"['Oriental' 'Syrian']\", \"['Sandwiches' 'Fast Food' 'Syrian']\",\n",
       "       \"['German' 'Chicken']\", \"['Burgers' 'Sandwiches' 'Chicken']\",\n",
       "       \"['Sandwiches' 'Syrian']\",\n",
       "       \"['Egyptian' 'Sandwiches' 'Koshary' 'Foul we Ta3meya']\",\n",
       "       \"['Pizza']\", \"['Pizza' 'American']\", \"['Oriental' 'Grill']\",\n",
       "       \"['Sandwiches' 'Fast Food']\",\n",
       "       \"['Egyptian' 'Sandwiches' 'Foul we Ta3meya']\",\n",
       "       \"['Grill' 'Chicken' 'Syrian']\",\n",
       "       \"['Sandwiches' 'Fast Food' 'Chicken']\",\n",
       "       \"['Asian' 'Chinese' 'Fast Food']\", \"['Sandwiches']\",\n",
       "       \"['Italian' 'Pizza']\", \"['Desserts']\", \"['Koshary']\",\n",
       "       \"['Bakeries and Pastries' 'Fast Food' 'Desserts']\", \"['Burgers']\",\n",
       "       \"['Egyptian' 'Grill']\", \"['Seafood']\", \"['Syrian']\",\n",
       "       \"['Tarts and chocolates']\",\n",
       "       \"['Sandwiches' 'Bakeries and Pastries' 'Coffee & Drinks' 'French']\",\n",
       "       \"['Burgers' 'Steaks']\",\n",
       "       \"['Italian' 'Pizza' 'Bakeries and Pastries']\", \"['Chicken']\",\n",
       "       \"['Egyptian']\", \"['Italian']\",\n",
       "       \"['Egyptian' 'Sandwiches' 'Fast Food']\",\n",
       "       \"['International' 'Desserts' 'Coffee & Drinks']\",\n",
       "       \"['Sandwiches' 'Chicken']\", \"['International' 'Sandwiches']\",\n",
       "       \"['Egyptian' 'Oriental' 'Sandwiches']\",\n",
       "       \"['Burgers' 'Fast Food' 'American']\",\n",
       "       \"['Asian' 'Japanese' 'Sushi' 'Steaks']\",\n",
       "       \"['Burgers' 'Sandwiches' 'Fast Food' 'American']\",\n",
       "       \"['Asian' 'Chinese' 'Vegetarian']\",\n",
       "       \"['Bakeries and Pastries' 'Coffee & Drinks']\",\n",
       "       \"['Sandwiches' 'Vegetarian']\",\n",
       "       \"['Egyptian' 'Oriental' 'Fast Food']\", \"['Oriental' 'Lebanese']\",\n",
       "       \"['Fast Food' 'Grill' 'Chicken']\",\n",
       "       \"['Burgers' 'American' 'Tex-Mex']\", \"['Turkish']\", \"['Indian']\",\n",
       "       \"['Egyptian' 'Oriental']\", \"['Foul we Ta3meya']\",\n",
       "       \"['Pizza' 'Bakeries and Pastries' 'Fast Food']\", \"['European']\",\n",
       "       \"['International' 'Sandwiches' 'Grill' 'Chicken']\",\n",
       "       \"['Oriental' 'Lebanese' 'Syrian']\",\n",
       "       \"['Egyptian' 'Oriental' 'Fast Food' 'Foul we Ta3meya']\",\n",
       "       \"['Pizza' 'Egyptian' 'Fast Food']\", \"['Sushi']\",\n",
       "       \"['Tex-Mex' 'Mexican']\",\n",
       "       \"['Sandwiches' 'Bakeries and Pastries' 'Coffee & Drinks']\",\n",
       "       \"['Italian' 'Sushi' 'Desserts' 'Coffee & Drinks']\",\n",
       "       \"['Italian' 'Sushi' 'Bakeries and Pastries']\",\n",
       "       \"['Egyptian' 'Sandwiches' 'Fast Food' 'Foul we Ta3meya']\",\n",
       "       \"['Oriental' 'Foul we Ta3meya']\", \"['Oriental' 'Desserts']\",\n",
       "       \"['Sushi' 'Steaks' 'Grill']\", \"['Grill']\",\n",
       "       \"['Italian' 'Coffee & Drinks']\", \"['Japanese' 'Sushi']\",\n",
       "       \"['International' 'Coffee & Drinks']\", \"['Fast Food' 'Desserts']\",\n",
       "       \"['Pizza' 'Bakeries and Pastries' 'Desserts']\",\n",
       "       \"['Pizza' 'Grill' 'Syrian']\", \"['American' 'Chicken']\",\n",
       "       \"['Asian' 'Chinese' 'Thai']\",\n",
       "       \"['Italian' 'Pizza' 'Coffee & Drinks']\", \"['Burgers' 'American']\",\n",
       "       \"['Oriental' 'Chicken' 'Syrian']\",\n",
       "       \"['Pizza' 'Sandwiches' 'Grill' 'Syrian']\",\n",
       "       \"['Oriental' 'Sandwiches' 'Lebanese' 'Foul we Ta3meya']\",\n",
       "       \"['Italian' 'Pizza' 'Sandwiches' 'Fast Food']\",\n",
       "       \"['Seafood' 'Sandwiches' 'Fast Food']\", \"['Lebanese']\",\n",
       "       \"['Italian' 'Egyptian' 'Oriental' 'Fast Food']\",\n",
       "       \"['Burgers' 'Fast Food']\",\n",
       "       \"['International' 'Oriental' 'Sandwiches' 'Fast Food']\",\n",
       "       \"['Egyptian' 'Fast Food' 'Foul we Ta3meya']\",\n",
       "       \"['Asian' 'Sushi' 'Thai']\", \"[array(['Oriental'], dtype=object)]\",\n",
       "       \"['Egyptian' 'Grill' 'Chicken']\", \"['Coffee & Drinks']\",\n",
       "       \"['Sandwiches' 'Grill']\", \"['Egyptian' 'Oriental' 'Lebanese']\",\n",
       "       \"['Fast Food' 'Foul we Ta3meya' 'Syrian']\",\n",
       "       \"['International' 'Bakeries and Pastries' 'Desserts']\",\n",
       "       \"['Sandwiches' 'Fast Food' 'Lebanese']\",\n",
       "       \"['International' 'Steaks']\", \"['Fast Food' 'Grill']\",\n",
       "       \"['Pizza' 'Desserts']\", \"['Asian' 'Chinese']\",\n",
       "       \"['Pizza' 'International' 'Oriental' 'Sandwiches']\",\n",
       "       \"['International' 'Tex-Mex' 'Steaks']\",\n",
       "       \"['Asian' 'Japanese' 'Sushi']\",\n",
       "       \"['Bakeries and Pastries' 'Desserts' 'Coffee & Drinks']\",\n",
       "       \"['Asian']\", \"['Burgers' 'Pizza' 'American' 'Steaks']\",\n",
       "       \"['Sushi' 'Sandwiches']\",\n",
       "       \"['Egyptian' 'Sandwiches' 'Fast Food' 'Grill']\",\n",
       "       \"['American' 'Steaks']\", \"['Italian' 'Pizza' 'Fast Food']\",\n",
       "       \"['Bakeries and Pastries']\", \"['Grill' 'German']\",\n",
       "       \"['International' 'Desserts']\",\n",
       "       \"['Burgers' 'Sandwiches' 'Bakeries and Pastries']\",\n",
       "       \"['Fast Food' 'Lebanese']\", \"['Italian' 'Pizza' 'Spanish']\",\n",
       "       \"['Sushi' 'International' 'Grill']\",\n",
       "       \"['Burgers' 'Desserts' 'Coffee & Drinks']\",\n",
       "       \"['Asian' 'Japanese' 'Tarts and chocolates' 'Argentinian']\",\n",
       "       \"['Japanese']\", \"['Pizza' 'Egyptian' 'Sandwiches']\",\n",
       "       \"[array(['Sandwiches', 'Fast Food'], dtype=object)]\",\n",
       "       \"['Egyptian' 'Oriental' 'Sandwiches' 'Grill']\",\n",
       "       \"[array(['Chicken'], dtype=object)]\",\n",
       "       \"['Pizza' 'Seafood' 'Chicken']\",\n",
       "       \"[array(['Italian', 'Pizza'], dtype=object)]\",\n",
       "       \"['Japanese' 'Sushi' 'Chinese' 'Seafood']\",\n",
       "       \"[array(['Pizza', 'Sandwiches'], dtype=object)]\",\n",
       "       \"['Pizza' 'Sandwiches' 'Fast Food' 'Grill']\",\n",
       "       \"[array(['Pizza'], dtype=object)]\",\n",
       "       \"[array(['Egyptian'], dtype=object)]\", \"['Oriental' 'Koshary']\",\n",
       "       \"['Sandwiches' 'Fast Food' 'Foul we Ta3meya']\",\n",
       "       \"['Oriental' 'Sandwiches' 'Desserts']\",\n",
       "       \"['Pizza' 'Sandwiches' 'Fast Food']\", \"['Sushi' 'Steaks']\",\n",
       "       \"['Sandwiches' 'Mexican' 'Grill']\",\n",
       "       \"['Italian' 'Pizza' 'Oriental']\",\n",
       "       \"['Italian' 'International' 'American']\",\n",
       "       \"['International' 'Grill' 'Coffee & Drinks']\",\n",
       "       \"[array(['Fast Food', 'Chicken'], dtype=object)]\",\n",
       "       \"[array(['Bakeries and Pastries', 'Desserts'], dtype=object)]\",\n",
       "       \"['Asian' 'Indian']\",\n",
       "       \"[array(['Burgers', 'Pizza', 'American', 'Desserts'], dtype=object)]\",\n",
       "       \"['Oriental' 'Grill' 'Turkish']\",\n",
       "       \"[array(['Egyptian', 'Oriental'], dtype=object)]\",\n",
       "       \"['Bakeries and Pastries' 'American' 'Desserts']\",\n",
       "       \"['Pizza' 'Syrian']\", \"['Asian' 'Tarts and chocolates']\",\n",
       "       \"['Pizza' 'Sandwiches' 'Grill']\",\n",
       "       \"[array(['Indian'], dtype=object)]\",\n",
       "       \"['Oriental' 'Grill' 'Chicken']\",\n",
       "       \"[array(['Oriental', 'Sandwiches'], dtype=object)]\",\n",
       "       \"[array(['Fast Food'], dtype=object)]\",\n",
       "       \"[array(['Egyptian', 'Oriental', 'Fast Food'], dtype=object)]\",\n",
       "       \"['International' 'Fast Food']\",\n",
       "       \"[array(['International'], dtype=object)]\",\n",
       "       \"['Sandwiches' 'Bakeries and Pastries' 'Steaks' 'Desserts']\",\n",
       "       \"['Egyptian' 'Sandwiches' 'Lebanese' 'American']\",\n",
       "       \"[array(['Egyptian', 'Sandwiches', 'Grill'], dtype=object)]\",\n",
       "       \"[array(['Grill'], dtype=object)]\", \"['French']\",\n",
       "       \"['Italian' 'Pizza' 'Egyptian' 'Desserts']\",\n",
       "       \"[array(['Oriental', 'Grill'], dtype=object)]\",\n",
       "       \"['International' 'Bakeries and Pastries' 'Coffee & Drinks']\",\n",
       "       \"[array(['Pizza', 'Fast Food'], dtype=object)]\"], dtype=object)"
      ]
     },
     "execution_count": 62,
     "metadata": {},
     "output_type": "execute_result"
    }
   ],
   "source": [
    "data['cuisine'].unique()"
   ]
  },
  {
   "cell_type": "code",
   "execution_count": 64,
   "metadata": {},
   "outputs": [
    {
     "data": {
      "text/plain": [
       "\"['Egyptian' 'Oriental' 'Grill']\""
      ]
     },
     "execution_count": 64,
     "metadata": {},
     "output_type": "execute_result"
    }
   ],
   "source": [
    "data['cuisine'][0]"
   ]
  },
  {
   "cell_type": "code",
   "execution_count": 63,
   "metadata": {},
   "outputs": [
    {
     "data": {
      "text/plain": [
       "array([\"['No Smoking Area' 'Outdoor' 'TV' 'WiFi' 'Grill' 'Catering']\",\n",
       "       \"['No Smoking Area' 'Outdoor' 'WiFi' 'Kids-Friendly' 'Playground' '24 hrs']\",\n",
       "       \"['No Smoking Area' 'Khorogat Iftar' 'Catering']\", \"['24 hrs']\",\n",
       "       \"['Khorogat Iftar']\",\n",
       "       \"['No Smoking Area' 'Breakfast' 'Work Or Study' 'Coffeeshops']\",\n",
       "       \"['No Smoking Area' 'TV' 'WiFi']\", \"['No Smoking Area']\",\n",
       "       \"['Outdoor']\",\n",
       "       \"['Outdoor' 'TV' 'Breakfast' 'Sohour w Khorouga' 'Catering' 'Cheap Eats']\",\n",
       "       \"['Outdoor' '24 hrs']\", \"['Outdoor' 'Catering']\",\n",
       "       \"['No Smoking Area' 'Outdoor' 'TV' 'WiFi' 'Khorogat Iftar']\",\n",
       "       \"['Outdoor' 'Khorogat Iftar' 'Catering']\",\n",
       "       \"['No Smoking Area' 'Casual Dining' 'Outdoor']\",\n",
       "       \"['No Smoking Area' 'Casual Dining' 'Outdoor' 'Catering']\",\n",
       "       \"['No Smoking Area' 'WiFi' 'Cheap Eats']\",\n",
       "       \"['Outdoor' 'TV' 'Drive-ins' 'Cheap Eats']\",\n",
       "       \"['Outdoor' 'Drive-ins' 'Catering' 'Cheap Eats']\",\n",
       "       \"['No Smoking Area' 'Outdoor' 'TV' 'Khorogat Iftar' 'Catering' 'Cheap Eats']\",\n",
       "       \"['Outdoor' 'TV' 'Khorogat Iftar' 'Catering']\",\n",
       "       \"['Outdoor' 'TV' 'Khorogat Iftar']\", \"['Outdoor' 'TV' 'WiFi']\",\n",
       "       \"['No Smoking Area' 'Casual Dining' 'Outdoor' 'Khorogat Iftar' 'Catering']\",\n",
       "       \"['Outdoor' 'TV' 'Cheap Eats']\",\n",
       "       \"['Casual Dining' 'Outdoor' 'Breakfast' 'Catering']\",\n",
       "       \"['No Smoking Area' 'Casual Dining' 'Outdoor' 'TV' 'WiFi' 'Khorogat Iftar'\\r\\n 'Breakfast' 'Sohour w Khorouga']\",\n",
       "       \"['Outdoor' 'TV' 'WiFi' 'Grill' 'Catering']\",\n",
       "       \"['No Smoking Area' 'Outdoor' 'Breakfast' 'Sohour w Khorouga' 'Cheap Eats']\",\n",
       "       \"['No Smoking Area' 'Outdoor' 'Catering' 'Work Or Study' 'Coffeeshops']\",\n",
       "       \"['No Smoking Area' 'Outdoor' 'Cheap Eats']\",\n",
       "       \"['Outdoor' 'Khorogat Iftar']\",\n",
       "       \"['No Smoking Area' 'Casual Dining' 'Outdoor' 'TV']\",\n",
       "       \"['No Smoking Area' 'Casual Dining' '24 hrs' 'Hidden Gems']\",\n",
       "       \"['No Smoking Area' 'Outdoor' 'Post Fetar Hangouts']\",\n",
       "       \"['No Smoking Area' 'Cheap Eats']\",\n",
       "       \"['No Smoking Area' 'Outdoor']\", \"['Outdoor' 'TV']\",\n",
       "       \"['No Smoking Area' 'Casual Dining' 'Outdoor' 'Food with a View'\\r\\n 'Nile/Sea View']\",\n",
       "       \"['Catering']\",\n",
       "       \"['Casual Dining' 'Outdoor' 'Breakfast' 'Alcohol']\",\n",
       "       \"['No Smoking Area' 'Casual Dining' 'Outdoor' 'Kids-Friendly' 'Breakfast']\",\n",
       "       \"['TV' 'Khorogat Iftar' 'Catering']\",\n",
       "       \"['No Smoking Area' 'TV' 'Khorogat Iftar']\",\n",
       "       \"['Casual Dining' 'Outdoor' 'Alcohol']\", \"['TV']\",\n",
       "       \"['Khorogat Iftar' 'Sohour w Khorouga' 'Catering' 'Cheap Eats']\",\n",
       "       \"['No Smoking Area' 'Outdoor' 'Hidden Gems' 'Cheap Eats']\",\n",
       "       \"['24 hrs' 'Drive-ins']\",\n",
       "       \"['Outdoor' 'TV' 'Food with a View' 'Catering']\",\n",
       "       \"['No Smoking Area' 'Outdoor' 'TV' 'Khorogat Iftar' 'Grill']\",\n",
       "       \"['No Smoking Area' 'TV']\",\n",
       "       \"['Outdoor' 'WiFi' 'Breakfast' 'Pet Friendly' 'Work Or Study']\",\n",
       "       \"['No Smoking Area' 'Outdoor' 'TV' 'WiFi']\",\n",
       "       \"['No Smoking Area' 'Khorogat Iftar']\",\n",
       "       \"['No Smoking Area' 'Outdoor' 'WiFi']\",\n",
       "       \"['Outdoor' 'TV' 'WiFi' 'Kids-Friendly' 'Playground' '24 hrs']\",\n",
       "       \"['Casual Dining' 'Outdoor' 'TV' 'Breakfast' 'Catering']\",\n",
       "       \"['Outdoor' 'WiFi' 'Kids-Friendly']\",\n",
       "       \"['No Smoking Area' 'Casual Dining' 'Outdoor' 'WiFi' 'Catering']\",\n",
       "       \"['Outdoor' 'Cheap Eats']\", \"['Khorogat Iftar' '24 hrs']\",\n",
       "       \"['No Smoking Area' 'Outdoor' 'TV' 'Kids-Friendly' 'Playground']\",\n",
       "       \"['24 hrs' 'Cheap Eats']\",\n",
       "       \"['No Smoking Area' 'Casual Dining' 'Outdoor' 'WiFi']\",\n",
       "       \"['Outdoor' 'Breakfast']\",\n",
       "       \"['Casual Dining' 'Outdoor' 'WiFi' 'Catering']\",\n",
       "       \"['Casual Dining' 'Khorogat Iftar' 'Post Fetar Hangouts']\",\n",
       "       \"['No Smoking Area' 'TV' 'WiFi' 'Breakfast' 'Catering' 'Work Or Study']\",\n",
       "       \"['No Smoking Area' 'Outdoor' 'Catering']\",\n",
       "       \"['No Smoking Area' 'Outdoor' 'Breakfast' 'Work Or Study' 'Coffeeshops'\\r\\n 'Coffee Places']\",\n",
       "       \"['No Smoking Area' 'TV' 'WiFi' 'Playground' 'Catering']\",\n",
       "       \"['No Smoking Area' 'Outdoor' 'WiFi' 'Khorogat Iftar']\",\n",
       "       \"['Casual Dining' 'Outdoor' 'TV' 'WiFi' 'Breakfast']\",\n",
       "       \"['Casual Dining' 'Outdoor' 'TV' 'WiFi' 'Grill' 'Playground'\\r\\n 'Food with a View' 'Nile/Sea View' 'Iftar' 'Open During Day']\",\n",
       "       \"['No Smoking Area' 'Khorogat Iftar' 'Kids-Friendly' 'Catering']\",\n",
       "       \"['TV' 'Khorogat Iftar']\",\n",
       "       \"['No Smoking Area' 'Casual Dining' 'Breakfast']\",\n",
       "       \"['Outdoor' 'TV' '24 hrs' 'Breakfast' 'Cheap Eats']\",\n",
       "       \"['Outdoor' 'TV' 'Khorogat Iftar' '24 hrs']\",\n",
       "       \"['Khorogat Iftar' 'Kids-Friendly' 'Catering']\",\n",
       "       \"['Outdoor' 'TV' 'Catering' 'Cheap Eats']\",\n",
       "       \"['Khorogat Iftar' 'Catering']\",\n",
       "       \"['Casual Dining' 'Outdoor' 'Breakfast' 'Pet Friendly' 'Romantic']\",\n",
       "       \"['Outdoor' 'WiFi' 'Street Food' 'Cheap Eats']\",\n",
       "       \"['No Smoking Area' 'Outdoor' 'Khorogat Iftar' 'Nile/Sea View']\",\n",
       "       \"['WiFi' 'Khorogat Iftar']\",\n",
       "       \"['Casual Dining' 'Outdoor' 'Catering']\",\n",
       "       \"['No Smoking Area' 'Outdoor' 'TV' 'Khorogat Iftar']\",\n",
       "       \"['No Smoking Area' 'Casual Dining']\",\n",
       "       \"['Casual Dining' 'Outdoor' 'WiFi' 'Breakfast' 'Hidden Gems' 'Pet Friendly']\",\n",
       "       \"['Casual Dining' 'Outdoor' 'WiFi' 'Breakfast']\",\n",
       "       \"['No Smoking Area' 'Casual Dining' 'Hidden Gems']\",\n",
       "       \"['Catering' 'Cheap Eats']\",\n",
       "       \"['No Smoking Area' 'Outdoor' 'TV' 'WiFi' 'Khorogat Iftar' 'Breakfast'\\r\\n 'Catering']\",\n",
       "       \"['No Smoking Area' 'Casual Dining' 'Catering']\",\n",
       "       \"['Outdoor' 'TV' 'WiFi' 'Playground' 'Nile/Sea View']\",\n",
       "       \"['Casual Dining' 'WiFi' 'Catering']\",\n",
       "       \"['No Smoking Area' 'Outdoor' 'TV' 'Khorogat Iftar' 'Grill' 'Breakfast']\",\n",
       "       \"['TV' 'Catering']\",\n",
       "       \"['No Smoking Area' 'Casual Dining' 'WiFi' 'Kids-Friendly' '24 hrs'\\r\\n 'Breakfast' 'Catering']\",\n",
       "       \"['Khorogat Iftar' 'Grill']\", \"['Outdoor' 'TV' '24 hrs']\",\n",
       "       \"['No Smoking Area' 'Outdoor' '24 hrs']\",\n",
       "       \"['Khorogat Iftar' 'Breakfast' 'Sohour w Khorouga' 'Cheap Eats']\",\n",
       "       \"['No Smoking Area' 'Casual Dining' 'TV' 'Catering']\",\n",
       "       \"['Outdoor' 'Pet Friendly']\", \"['Casual Dining' 'Outdoor' 'TV']\",\n",
       "       \"['No Smoking Area' 'Casual Dining' 'TV' 'Khorogat Iftar'\\r\\n 'Sohour w Khorouga']\",\n",
       "       \"['Fancy Dining' 'Romantic' 'Alcohol']\",\n",
       "       \"['No Smoking Area' 'Casual Dining' 'Outdoor' 'TV' 'WiFi' 'Alcohol']\",\n",
       "       \"['Outdoor' 'Khorogat Iftar' 'Catering' 'Cheap Eats']\",\n",
       "       \"['Casual Dining' 'TV' 'WiFi' 'Khorogat Iftar']\",\n",
       "       \"['Outdoor' 'TV' 'WiFi' 'Khorogat Iftar' 'Sohour w Khorouga' 'Cheap Eats']\",\n",
       "       \"['Breakfast' 'Catering' 'Street Food']\",\n",
       "       \"['TV' 'WiFi' 'Khorogat Iftar']\",\n",
       "       \"['Outdoor' 'TV' 'WiFi' 'Pet Friendly']\",\n",
       "       \"['Casual Dining' 'WiFi' 'Catering' 'Alcohol']\",\n",
       "       \"['Outdoor' 'WiFi' '24 hrs' 'Breakfast' 'Catering']\",\n",
       "       \"['Outdoor' 'Drive-ins' 'Cheap Eats']\", \"['24 hrs' 'Catering']\",\n",
       "       \"['No Smoking Area' 'Casual Dining' 'Outdoor' 'WiFi' 'Playground'\\r\\n 'Breakfast']\",\n",
       "       \"['Outdoor' 'Khorogat Iftar' 'Sohour w Khorouga']\",\n",
       "       \"['Outdoor' 'TV' 'WiFi' 'Khorogat Iftar' 'Kids-Friendly' 'Playground']\",\n",
       "       \"['24 hrs' 'Breakfast' 'Cheap Eats']\",\n",
       "       \"['No Smoking Area' 'Outdoor' 'WiFi' 'Khorogat Iftar' 'Kids-Friendly'\\r\\n 'Grill']\",\n",
       "       \"['TV' 'WiFi' 'Catering' 'Post Fetar Hangouts']\",\n",
       "       \"['Outdoor' '24 hrs' 'Breakfast']\", \"['Casual Dining' 'Catering']\",\n",
       "       \"[array(['Outdoor', 'Khorogat Iftar', 'Shisha', 'Post Fetar Hangouts'],\\r\\n      dtype=object)]\",\n",
       "       \"['No Smoking Area' 'Outdoor' 'Khorogat Iftar' 'Sohour w Khorouga']\",\n",
       "       \"['Sohour w Khorouga']\", \"['Outdoor' 'Khorogat Iftar' 'Grill']\",\n",
       "       \"['Grill']\", \"['TV' 'WiFi' 'Khorogat Iftar' 'Catering']\",\n",
       "       \"['No Smoking Area' 'Outdoor' 'TV' 'WiFi' 'Khorogat Iftar' 'Playground'\\r\\n 'Post Fetar Hangouts']\",\n",
       "       \"['Outdoor' 'TV' 'Kids-Friendly' 'Playground']\",\n",
       "       \"['TV' 'Kids-Friendly' 'Playground']\",\n",
       "       \"['Outdoor' 'Khorogat Iftar' 'Post Fetar Hangouts']\",\n",
       "       \"['No Smoking Area' 'Casual Dining' 'Outdoor' 'TV' 'WiFi' 'Catering'\\r\\n 'Work Or Study']\",\n",
       "       \"['Nile/Sea View']\", \"['Outdoor' 'Street Food']\",\n",
       "       \"['No Smoking Area' 'TV' 'Catering']\",\n",
       "       \"['Outdoor' 'Khorogat Iftar' '24 hrs']\",\n",
       "       \"['No Smoking Area' 'Casual Dining' 'WiFi' 'Catering']\",\n",
       "       \"['No Smoking Area' 'Hidden Gems' 'Catering' 'Fancy Dining' 'Romantic']\",\n",
       "       \"['Outdoor' 'TV' 'Khorogat Iftar' 'Breakfast' 'Cheap Eats']\",\n",
       "       \"['Playground' 'Catering' 'Alcohol']\", \"['Casual Dining']\",\n",
       "       \"['Breakfast' 'Post Fetar Hangouts']\",\n",
       "       \"['No Smoking Area' 'Outdoor' 'Khorogat Iftar' 'Catering']\",\n",
       "       \"['Casual Dining' 'TV' 'Hidden Gems' 'Catering']\",\n",
       "       \"['Outdoor' 'Kids-Friendly' 'Catering']\",\n",
       "       \"['Khorogat Iftar' 'Sohour w Khorouga']\",\n",
       "       \"['Outdoor' 'WiFi' 'Khorogat Iftar' 'Pet Friendly']\", \"['WiFi']\",\n",
       "       \"['Pet Friendly']\",\n",
       "       \"['No Smoking Area' 'Outdoor' 'WiFi' 'Breakfast' 'Breakfast in Sahel'\\r\\n 'Work Or Study' 'Coffeeshops']\",\n",
       "       \"['No Smoking Area' 'Casual Dining' 'Outdoor' 'TV' 'Khorogat Iftar'\\r\\n 'Kids-Friendly' 'Playground']\",\n",
       "       \"['Outdoor' 'TV' 'Hidden Gems' 'Drive-ins']\",\n",
       "       \"['Casual Dining' 'Outdoor']\",\n",
       "       \"['No Smoking Area' 'Casual Dining' 'Outdoor' 'TV' 'Khorogat Iftar'\\r\\n 'Playground']\",\n",
       "       \"['Khorogat Iftar' '24 hrs' 'Sohour w Khorouga']\",\n",
       "       \"['Cheap Eats']\", \"['Outdoor' 'Kids-Friendly']\",\n",
       "       \"['Outdoor' 'TV' 'Kids-Friendly' 'Pet Friendly']\",\n",
       "       \"['Outdoor' 'WiFi' 'Romantic' 'Alcohol' 'Live Music']\",\n",
       "       \"['Casual Dining' 'Hidden Gems']\",\n",
       "       \"['Outdoor' 'WiFi' 'Khorogat Iftar' 'Food with a View' 'Nile/Sea View']\",\n",
       "       \"['Outdoor' 'Catering' 'Post Fetar Hangouts']\",\n",
       "       \"['Casual Dining' 'Outdoor' 'TV' 'WiFi']\",\n",
       "       \"['No Smoking Area' 'Outdoor' 'TV']\",\n",
       "       \"['Outdoor' 'TV' 'Food with a View' 'Nile/Sea View' 'Sohour w Khorouga'\\r\\n 'Iftar Open Buffet']\",\n",
       "       \"['No Smoking Area' 'Outdoor' 'WiFi' 'Kids-Friendly']\",\n",
       "       \"['TV' 'Playground' 'Food with a View' 'Shisha' 'Alcohol' 'Sokhna Seafood']\",\n",
       "       \"['Outdoor' 'TV' 'Food with a View' 'Nile/Sea View' 'Romantic']\",\n",
       "       \"['24 hrs' 'Pride of Alex']\",\n",
       "       \"[array(['No Smoking Area', 'Outdoor', 'WiFi'], dtype=object)]\",\n",
       "       \"['Outdoor' 'TV' 'WiFi' 'Khorogat Iftar']\",\n",
       "       \"['Casual Dining' 'Outdoor' 'TV' 'WiFi' 'Kids-Friendly' 'Playground'\\r\\n 'Post Fetar Hangouts']\",\n",
       "       \"[array(['No Smoking Area', 'TV'], dtype=object)]\",\n",
       "       \"['Khorogat Iftar' 'Breakfast' 'Sohour w Khorouga' 'Catering']\",\n",
       "       \"[array(['Outdoor', 'Khorogat Iftar', 'Catering'], dtype=object)]\",\n",
       "       \"[array(['No Smoking Area', 'Casual Dining', 'Outdoor', 'WiFi',\\r\\n       'Playground', 'Breakfast', 'Pet Friendly', 'Romantic'],\\r\\n      dtype=object)]\",\n",
       "       \"['No Smoking Area' 'Nile/Sea View' 'Catering']\",\n",
       "       \"[array(['Outdoor'], dtype=object)]\",\n",
       "       \"['No Smoking Area' 'Casual Dining' 'Outdoor' 'Food with a View'\\r\\n 'Breakfast']\",\n",
       "       \"['Sohour w Khorouga' 'Catering' 'Cheap Eats']\",\n",
       "       \"['Outdoor' 'TV' 'Kids-Friendly' 'Breakfast' 'Catering']\",\n",
       "       \"['No Smoking Area' 'Casual Dining' 'Outdoor' 'TV' 'WiFi' 'Khorogat Iftar'\\r\\n 'Breakfast' 'Catering']\",\n",
       "       \"['No Smoking Area' 'Casual Dining' 'Outdoor' 'Breakfast' 'Coffee Places']\",\n",
       "       \"['Hidden Gems']\",\n",
       "       \"['Casual Dining' 'Outdoor' 'TV' 'WiFi' 'Playground' 'Food with a View'\\r\\n 'Nile/Sea View' 'Breakfast' 'Catering' 'Breakfast in Sahel']\",\n",
       "       \"['No Smoking Area' 'Outdoor' 'TV' 'WiFi' 'Pet Friendly']\",\n",
       "       \"['Outdoor' 'Drive-ins']\",\n",
       "       \"['Outdoor' 'TV' 'WiFi' 'Pet Friendly' 'Shisha']\",\n",
       "       \"[array(['No Smoking Area'], dtype=object)]\",\n",
       "       \"[array(['Catering'], dtype=object)]\",\n",
       "       \"['Sohour w Khorouga' 'Cheap Eats']\",\n",
       "       \"['Kids-Friendly' 'Playground' '24 hrs']\",\n",
       "       \"['Khorogat Iftar' 'Breakfast']\",\n",
       "       \"['No Smoking Area' 'Sohour w Khorouga']\",\n",
       "       \"['Outdoor' 'TV' 'Shisha']\",\n",
       "       \"[array(['No Smoking Area', 'TV', 'WiFi'], dtype=object)]\",\n",
       "       \"['TV' 'WiFi' 'Playground']\", \"[array(['24 hrs'], dtype=object)]\",\n",
       "       \"['TV' 'WiFi' 'Post Fetar Hangouts' 'Pride of Alex']\",\n",
       "       \"['TV' 'Food with a View' 'Pet Friendly' 'Ramadan Tents'\\r\\n 'Ramadan Fel Hussein' 'Breakfast in Sahel']\",\n",
       "       \"['Outdoor' 'TV' 'WiFi' 'Khorogat Iftar' 'Sohour w Khorouga' 'Shisha']\",\n",
       "       \"['Outdoor' 'Nile/Sea View']\",\n",
       "       \"['Outdoor' 'TV' 'WiFi' 'Khorogat Iftar' 'Kids-Friendly' 'Playground'\\r\\n 'Sohour w Khorouga']\",\n",
       "       \"['Khorogat Iftar' 'Kids-Friendly']\",\n",
       "       \"['No Smoking Area' 'Casual Dining' 'Outdoor' 'TV' 'WiFi' 'Breakfast']\",\n",
       "       \"['Outdoor' 'TV' 'Catering']\",\n",
       "       \"[array(['Outdoor', 'Khorogat Iftar'], dtype=object)]\",\n",
       "       \"[array(['Khorogat Iftar', 'Sohour w Khorouga', 'Catering'], dtype=object)]\",\n",
       "       \"['Outdoor' 'TV' 'WiFi' 'Khorogat Iftar' 'Kids-Friendly' 'Catering']\",\n",
       "       \"['TV' 'WiFi']\", \"[array(['Khorogat Iftar'], dtype=object)]\",\n",
       "       \"['Outdoor' 'Khorogat Iftar' 'Breakfast']\",\n",
       "       \"['WiFi' 'Sohour w Khorouga']\",\n",
       "       \"[array(['No Smoking Area', 'Khorogat Iftar'], dtype=object)]\",\n",
       "       \"['Casual Dining' 'Breakfast']\",\n",
       "       \"[array(['No Smoking Area', 'Outdoor', 'TV', 'Khorogat Iftar', 'Playground',\\r\\n       'Sohour w Khorouga'], dtype=object)]\",\n",
       "       \"['Breakfast']\"], dtype=object)"
      ]
     },
     "execution_count": 63,
     "metadata": {},
     "output_type": "execute_result"
    }
   ],
   "source": [
    "data['restaurant_features'].unique()"
   ]
  },
  {
   "cell_type": "markdown",
   "metadata": {},
   "source": [
    "### Dataset Informations"
   ]
  },
  {
   "cell_type": "markdown",
   "metadata": {},
   "source": [
    "**Dataset Description**\n",
    "\n",
    "\n",
    "*    The dataset consist of 8 features and 79395 record\n",
    "\n",
    "\n",
    "*  ** Catergorical Data:**\n",
    "-Area\n",
    "-Cuisine \n",
    "-Resturant Features\n",
    "\n",
    "*   **Numerical Data:**\n",
    "-Discounted\n",
    "- Number of orders\n",
    "\n",
    "\n",
    "\n",
    "*   We want to predict the Ratings of the resturants in Egypt\n",
    "\n",
    "\n",
    "\n",
    "*   **Cuisine Feature consist of:**\n",
    " - Type of food\n",
    " - The cuisine country\n",
    "*   **Resturant Features consist of:**\n",
    "  If it has smoking area or not\n",
    " If it has outdoor area or not\n",
    "...etc\n",
    "\n",
    "*   The data doesn't contain any null values \n",
    "*   The data contains Noise/Uncoorect data such as '(dtype=object,[array)'\n",
    "\n",
    "\n",
    "*    Some data shapes are not correct such as 'Cuisine' and 'resturant Features' ,They are strings and we want them as lists\n",
    "\n",
    "\n",
    "\n",
    "\n",
    "\n",
    "\n",
    "\n",
    "\n"
   ]
  },
  {
   "cell_type": "markdown",
   "metadata": {},
   "source": [
    "### Cleaning Data"
   ]
  },
  {
   "cell_type": "code",
   "execution_count": 65,
   "metadata": {},
   "outputs": [],
   "source": [
    "def to_list(column):\n",
    "    column = column.apply(lambda x : x[1:-1].replace(\"' '\", \",\"))\n",
    "    column = column.apply(lambda x : x.replace(\"'\",\"\"))\n",
    "    column = column.apply(lambda x : x.lower())\n",
    "    column = column.apply(lambda x: x.split(\",\"))\n",
    "    return column"
   ]
  },
  {
   "cell_type": "code",
   "execution_count": 66,
   "metadata": {},
   "outputs": [],
   "source": [
    "data['Edited_cuisine']=to_list(data['cuisine'])\n",
    "data['Edited_restaurant']=to_list(data['restaurant_features'])"
   ]
  },
  {
   "cell_type": "code",
   "execution_count": 68,
   "metadata": {},
   "outputs": [
    {
     "data": {
      "text/plain": [
       "(list, pandas.core.series.Series)"
      ]
     },
     "execution_count": 68,
     "metadata": {},
     "output_type": "execute_result"
    }
   ],
   "source": [
    "type(data['Edited_cuisine'][0]), type(data['Edited_restaurant'])"
   ]
  },
  {
   "cell_type": "code",
   "execution_count": 69,
   "metadata": {},
   "outputs": [
    {
     "data": {
      "text/html": [
       "<div>\n",
       "<style scoped>\n",
       "    .dataframe tbody tr th:only-of-type {\n",
       "        vertical-align: middle;\n",
       "    }\n",
       "\n",
       "    .dataframe tbody tr th {\n",
       "        vertical-align: top;\n",
       "    }\n",
       "\n",
       "    .dataframe thead th {\n",
       "        text-align: right;\n",
       "    }\n",
       "</style>\n",
       "<table border=\"1\" class=\"dataframe\">\n",
       "  <thead>\n",
       "    <tr style=\"text-align: right;\">\n",
       "      <th></th>\n",
       "      <th>user_uuid</th>\n",
       "      <th>restaurant_uuid</th>\n",
       "      <th>discounted</th>\n",
       "      <th>area</th>\n",
       "      <th>nOrders</th>\n",
       "      <th>cuisine</th>\n",
       "      <th>restaurant_features</th>\n",
       "      <th>Ratings</th>\n",
       "      <th>Edited_cuisine</th>\n",
       "      <th>Edited_restaurant</th>\n",
       "    </tr>\n",
       "  </thead>\n",
       "  <tbody>\n",
       "    <tr>\n",
       "      <th>0</th>\n",
       "      <td>4f0181917069f1bf5259c04f14a944c49d461bab</td>\n",
       "      <td>bf5ee7c8457db4d32da6633baf7a047115d76af4</td>\n",
       "      <td>0</td>\n",
       "      <td>Heliopolis</td>\n",
       "      <td>1</td>\n",
       "      <td>['Egyptian' 'Oriental' 'Grill']</td>\n",
       "      <td>['No Smoking Area' 'Outdoor' 'TV' 'WiFi' 'Gril...</td>\n",
       "      <td>5</td>\n",
       "      <td>[egyptian, oriental, grill]</td>\n",
       "      <td>[no smoking area, outdoor, tv, wifi, grill, ca...</td>\n",
       "    </tr>\n",
       "    <tr>\n",
       "      <th>1</th>\n",
       "      <td>06c7a3629566f04e19611981d0fb30dabe8d8daa</td>\n",
       "      <td>a8f1c42a5b27f032bbd69821b3d9941939db1ecf</td>\n",
       "      <td>0</td>\n",
       "      <td>Haram</td>\n",
       "      <td>1</td>\n",
       "      <td>['Burgers' 'Sandwiches' 'Fast Food']</td>\n",
       "      <td>['No Smoking Area' 'Outdoor' 'WiFi' 'Kids-Frie...</td>\n",
       "      <td>4</td>\n",
       "      <td>[burgers, sandwiches, fast food]</td>\n",
       "      <td>[no smoking area, outdoor, wifi, kids-friendly...</td>\n",
       "    </tr>\n",
       "    <tr>\n",
       "      <th>2</th>\n",
       "      <td>966acbc0eaf5c2cda02a242ec9caf75f98119ef9</td>\n",
       "      <td>ef29eff86405a92b1b547b32e845497694f450c6</td>\n",
       "      <td>0</td>\n",
       "      <td>Maadi</td>\n",
       "      <td>3</td>\n",
       "      <td>['Egyptian' 'Oriental' 'Grill']</td>\n",
       "      <td>['No Smoking Area' 'Khorogat Iftar' 'Catering']</td>\n",
       "      <td>4</td>\n",
       "      <td>[egyptian, oriental, grill]</td>\n",
       "      <td>[no smoking area, khorogat iftar, catering]</td>\n",
       "    </tr>\n",
       "    <tr>\n",
       "      <th>3</th>\n",
       "      <td>a910926f38c18c2e00a338c7d2f6e03ee78ea7a4</td>\n",
       "      <td>66ae2fbb6d1dfc1d3b07a68839db5da163eabe68</td>\n",
       "      <td>0</td>\n",
       "      <td>Faisal</td>\n",
       "      <td>1</td>\n",
       "      <td>['Pizza' 'Fast Food']</td>\n",
       "      <td>['24 hrs']</td>\n",
       "      <td>1</td>\n",
       "      <td>[pizza, fast food]</td>\n",
       "      <td>[24 hrs]</td>\n",
       "    </tr>\n",
       "    <tr>\n",
       "      <th>4</th>\n",
       "      <td>aa25b862b3f7fbd71425170343c53dcd93ec10c9</td>\n",
       "      <td>ef29eff86405a92b1b547b32e845497694f450c6</td>\n",
       "      <td>0</td>\n",
       "      <td>Maadi</td>\n",
       "      <td>1</td>\n",
       "      <td>['Egyptian' 'Oriental' 'Grill']</td>\n",
       "      <td>['No Smoking Area' 'Khorogat Iftar' 'Catering']</td>\n",
       "      <td>4</td>\n",
       "      <td>[egyptian, oriental, grill]</td>\n",
       "      <td>[no smoking area, khorogat iftar, catering]</td>\n",
       "    </tr>\n",
       "  </tbody>\n",
       "</table>\n",
       "</div>"
      ],
      "text/plain": [
       "                                  user_uuid  \\\n",
       "0  4f0181917069f1bf5259c04f14a944c49d461bab   \n",
       "1  06c7a3629566f04e19611981d0fb30dabe8d8daa   \n",
       "2  966acbc0eaf5c2cda02a242ec9caf75f98119ef9   \n",
       "3  a910926f38c18c2e00a338c7d2f6e03ee78ea7a4   \n",
       "4  aa25b862b3f7fbd71425170343c53dcd93ec10c9   \n",
       "\n",
       "                            restaurant_uuid  discounted        area  nOrders  \\\n",
       "0  bf5ee7c8457db4d32da6633baf7a047115d76af4           0  Heliopolis        1   \n",
       "1  a8f1c42a5b27f032bbd69821b3d9941939db1ecf           0       Haram        1   \n",
       "2  ef29eff86405a92b1b547b32e845497694f450c6           0       Maadi        3   \n",
       "3  66ae2fbb6d1dfc1d3b07a68839db5da163eabe68           0      Faisal        1   \n",
       "4  ef29eff86405a92b1b547b32e845497694f450c6           0       Maadi        1   \n",
       "\n",
       "                                cuisine  \\\n",
       "0       ['Egyptian' 'Oriental' 'Grill']   \n",
       "1  ['Burgers' 'Sandwiches' 'Fast Food']   \n",
       "2       ['Egyptian' 'Oriental' 'Grill']   \n",
       "3                 ['Pizza' 'Fast Food']   \n",
       "4       ['Egyptian' 'Oriental' 'Grill']   \n",
       "\n",
       "                                 restaurant_features  Ratings  \\\n",
       "0  ['No Smoking Area' 'Outdoor' 'TV' 'WiFi' 'Gril...        5   \n",
       "1  ['No Smoking Area' 'Outdoor' 'WiFi' 'Kids-Frie...        4   \n",
       "2    ['No Smoking Area' 'Khorogat Iftar' 'Catering']        4   \n",
       "3                                         ['24 hrs']        1   \n",
       "4    ['No Smoking Area' 'Khorogat Iftar' 'Catering']        4   \n",
       "\n",
       "                     Edited_cuisine  \\\n",
       "0       [egyptian, oriental, grill]   \n",
       "1  [burgers, sandwiches, fast food]   \n",
       "2       [egyptian, oriental, grill]   \n",
       "3                [pizza, fast food]   \n",
       "4       [egyptian, oriental, grill]   \n",
       "\n",
       "                                   Edited_restaurant  \n",
       "0  [no smoking area, outdoor, tv, wifi, grill, ca...  \n",
       "1  [no smoking area, outdoor, wifi, kids-friendly...  \n",
       "2        [no smoking area, khorogat iftar, catering]  \n",
       "3                                           [24 hrs]  \n",
       "4        [no smoking area, khorogat iftar, catering]  "
      ]
     },
     "execution_count": 69,
     "metadata": {},
     "output_type": "execute_result"
    }
   ],
   "source": [
    "data.head()"
   ]
  },
  {
   "cell_type": "code",
   "execution_count": 70,
   "metadata": {},
   "outputs": [
    {
     "data": {
      "text/plain": [
       "[burgers, sandwiches, fast food]                    12572\n",
       "[egyptian, oriental, grill]                         10275\n",
       "[egyptian, fast food]                                3694\n",
       "[sandwiches, fast food]                              3115\n",
       "[fast food]                                          3097\n",
       "                                                    ...  \n",
       "[array([sandwiches,  fast food],  dtype=object)]        1\n",
       "[array([egyptian],  dtype=object)]                      1\n",
       "[array([pizza],  dtype=object)]                         1\n",
       "[array([pizza,  sandwiches],  dtype=object)]            1\n",
       "[array([pizza,  fast food],  dtype=object)]             1\n",
       "Name: Edited_cuisine, Length: 183, dtype: int64"
      ]
     },
     "execution_count": 70,
     "metadata": {},
     "output_type": "execute_result"
    }
   ],
   "source": [
    "data['Edited_cuisine'].value_counts()"
   ]
  },
  {
   "cell_type": "markdown",
   "metadata": {},
   "source": [
    "- There is wrong data in cusisine containg'(dtype=object,[array)'"
   ]
  },
  {
   "cell_type": "code",
   "execution_count": 71,
   "metadata": {},
   "outputs": [],
   "source": [
    "wrong_data=[]\n",
    "for i in range(len(data)):\n",
    "    for j in range(len(data['Edited_cuisine'][i])):\n",
    "        if \"[\" in data['Edited_cuisine'][i][j]:\n",
    "            wrong_data.append(i)"
   ]
  },
  {
   "cell_type": "code",
   "execution_count": 72,
   "metadata": {},
   "outputs": [
    {
     "name": "stdout",
     "output_type": "stream",
     "text": [
      "['array([oriental]', ' dtype=object)']\n",
      "['array([sandwiches', ' fast food]', ' dtype=object)']\n",
      "['array([chicken]', ' dtype=object)']\n",
      "['array([italian', ' pizza]', ' dtype=object)']\n",
      "['array([pizza', ' sandwiches]', ' dtype=object)']\n",
      "['array([pizza]', ' dtype=object)']\n",
      "['array([egyptian]', ' dtype=object)']\n",
      "['array([fast food', ' chicken]', ' dtype=object)']\n",
      "['array([bakeries and pastries', ' desserts]', ' dtype=object)']\n",
      "['array([burgers', ' pizza', ' american', ' desserts]', ' dtype=object)']\n",
      "['array([egyptian', ' oriental]', ' dtype=object)']\n",
      "['array([indian]', ' dtype=object)']\n",
      "['array([oriental', ' sandwiches]', ' dtype=object)']\n",
      "['array([fast food]', ' dtype=object)']\n",
      "['array([egyptian', ' oriental', ' fast food]', ' dtype=object)']\n",
      "['array([international]', ' dtype=object)']\n",
      "['array([egyptian', ' sandwiches', ' grill]', ' dtype=object)']\n",
      "['array([grill]', ' dtype=object)']\n",
      "['array([oriental', ' grill]', ' dtype=object)']\n",
      "['array([pizza', ' fast food]', ' dtype=object)']\n",
      "['array([grill]', ' dtype=object)']\n",
      "['array([international]', ' dtype=object)']\n"
     ]
    }
   ],
   "source": [
    "for i in range (len(wrong_data)):\n",
    "    print(data['Edited_cuisine'][wrong_data[i]])"
   ]
  },
  {
   "cell_type": "code",
   "execution_count": 73,
   "metadata": {},
   "outputs": [
    {
     "data": {
      "text/plain": [
       "22"
      ]
     },
     "execution_count": 73,
     "metadata": {},
     "output_type": "execute_result"
    }
   ],
   "source": [
    "len(wrong_data)"
   ]
  },
  {
   "cell_type": "markdown",
   "metadata": {},
   "source": [
    " - The wrong data is 22 record and the whole data is 79395 record so we can drop the"
   ]
  },
  {
   "cell_type": "code",
   "execution_count": 74,
   "metadata": {},
   "outputs": [],
   "source": [
    "data=data.drop(wrong_data,axis=0)\n",
    "data=data.reset_index(drop=True)"
   ]
  },
  {
   "cell_type": "code",
   "execution_count": 75,
   "metadata": {},
   "outputs": [
    {
     "data": {
      "text/plain": [
       "[burgers, sandwiches, fast food]               12572\n",
       "[egyptian, oriental, grill]                    10275\n",
       "[egyptian, fast food]                           3694\n",
       "[sandwiches, fast food]                         3115\n",
       "[fast food]                                     3097\n",
       "                                               ...  \n",
       "[egyptian, sandwiches, lebanese, american]         2\n",
       "[french]                                           2\n",
       "[asian, indian]                                    1\n",
       "[italian, pizza, egyptian, desserts]               1\n",
       "[bakeries and pastries, american, desserts]        1\n",
       "Name: Edited_cuisine, Length: 163, dtype: int64"
      ]
     },
     "execution_count": 75,
     "metadata": {},
     "output_type": "execute_result"
    }
   ],
   "source": [
    "data['Edited_cuisine'].value_counts()"
   ]
  },
  {
   "cell_type": "markdown",
   "metadata": {},
   "source": [
    "- create a new coloum from  type series to detect the unique values ib both ['cuisine,resturant]"
   ]
  },
  {
   "cell_type": "code",
   "execution_count": 76,
   "metadata": {},
   "outputs": [],
   "source": [
    "data['Series_cuisine']=pd.Series([x for l in data['Edited_cuisine'] for x in l])\n"
   ]
  },
  {
   "cell_type": "code",
   "execution_count": 77,
   "metadata": {},
   "outputs": [],
   "source": [
    "data['Series_resturant']=pd.Series([x for l in data['Edited_restaurant'] for x in l])"
   ]
  },
  {
   "cell_type": "code",
   "execution_count": 78,
   "metadata": {},
   "outputs": [
    {
     "data": {
      "text/html": [
       "<div>\n",
       "<style scoped>\n",
       "    .dataframe tbody tr th:only-of-type {\n",
       "        vertical-align: middle;\n",
       "    }\n",
       "\n",
       "    .dataframe tbody tr th {\n",
       "        vertical-align: top;\n",
       "    }\n",
       "\n",
       "    .dataframe thead th {\n",
       "        text-align: right;\n",
       "    }\n",
       "</style>\n",
       "<table border=\"1\" class=\"dataframe\">\n",
       "  <thead>\n",
       "    <tr style=\"text-align: right;\">\n",
       "      <th></th>\n",
       "      <th>user_uuid</th>\n",
       "      <th>restaurant_uuid</th>\n",
       "      <th>discounted</th>\n",
       "      <th>area</th>\n",
       "      <th>nOrders</th>\n",
       "      <th>cuisine</th>\n",
       "      <th>restaurant_features</th>\n",
       "      <th>Ratings</th>\n",
       "      <th>Edited_cuisine</th>\n",
       "      <th>Edited_restaurant</th>\n",
       "      <th>Series_cuisine</th>\n",
       "      <th>Series_resturant</th>\n",
       "    </tr>\n",
       "  </thead>\n",
       "  <tbody>\n",
       "    <tr>\n",
       "      <th>0</th>\n",
       "      <td>4f0181917069f1bf5259c04f14a944c49d461bab</td>\n",
       "      <td>bf5ee7c8457db4d32da6633baf7a047115d76af4</td>\n",
       "      <td>0</td>\n",
       "      <td>Heliopolis</td>\n",
       "      <td>1</td>\n",
       "      <td>['Egyptian' 'Oriental' 'Grill']</td>\n",
       "      <td>['No Smoking Area' 'Outdoor' 'TV' 'WiFi' 'Gril...</td>\n",
       "      <td>5</td>\n",
       "      <td>[egyptian, oriental, grill]</td>\n",
       "      <td>[no smoking area, outdoor, tv, wifi, grill, ca...</td>\n",
       "      <td>egyptian</td>\n",
       "      <td>no smoking area</td>\n",
       "    </tr>\n",
       "    <tr>\n",
       "      <th>1</th>\n",
       "      <td>06c7a3629566f04e19611981d0fb30dabe8d8daa</td>\n",
       "      <td>a8f1c42a5b27f032bbd69821b3d9941939db1ecf</td>\n",
       "      <td>0</td>\n",
       "      <td>Haram</td>\n",
       "      <td>1</td>\n",
       "      <td>['Burgers' 'Sandwiches' 'Fast Food']</td>\n",
       "      <td>['No Smoking Area' 'Outdoor' 'WiFi' 'Kids-Frie...</td>\n",
       "      <td>4</td>\n",
       "      <td>[burgers, sandwiches, fast food]</td>\n",
       "      <td>[no smoking area, outdoor, wifi, kids-friendly...</td>\n",
       "      <td>oriental</td>\n",
       "      <td>outdoor</td>\n",
       "    </tr>\n",
       "    <tr>\n",
       "      <th>2</th>\n",
       "      <td>966acbc0eaf5c2cda02a242ec9caf75f98119ef9</td>\n",
       "      <td>ef29eff86405a92b1b547b32e845497694f450c6</td>\n",
       "      <td>0</td>\n",
       "      <td>Maadi</td>\n",
       "      <td>3</td>\n",
       "      <td>['Egyptian' 'Oriental' 'Grill']</td>\n",
       "      <td>['No Smoking Area' 'Khorogat Iftar' 'Catering']</td>\n",
       "      <td>4</td>\n",
       "      <td>[egyptian, oriental, grill]</td>\n",
       "      <td>[no smoking area, khorogat iftar, catering]</td>\n",
       "      <td>grill</td>\n",
       "      <td>tv</td>\n",
       "    </tr>\n",
       "    <tr>\n",
       "      <th>3</th>\n",
       "      <td>a910926f38c18c2e00a338c7d2f6e03ee78ea7a4</td>\n",
       "      <td>66ae2fbb6d1dfc1d3b07a68839db5da163eabe68</td>\n",
       "      <td>0</td>\n",
       "      <td>Faisal</td>\n",
       "      <td>1</td>\n",
       "      <td>['Pizza' 'Fast Food']</td>\n",
       "      <td>['24 hrs']</td>\n",
       "      <td>1</td>\n",
       "      <td>[pizza, fast food]</td>\n",
       "      <td>[24 hrs]</td>\n",
       "      <td>burgers</td>\n",
       "      <td>wifi</td>\n",
       "    </tr>\n",
       "    <tr>\n",
       "      <th>4</th>\n",
       "      <td>aa25b862b3f7fbd71425170343c53dcd93ec10c9</td>\n",
       "      <td>ef29eff86405a92b1b547b32e845497694f450c6</td>\n",
       "      <td>0</td>\n",
       "      <td>Maadi</td>\n",
       "      <td>1</td>\n",
       "      <td>['Egyptian' 'Oriental' 'Grill']</td>\n",
       "      <td>['No Smoking Area' 'Khorogat Iftar' 'Catering']</td>\n",
       "      <td>4</td>\n",
       "      <td>[egyptian, oriental, grill]</td>\n",
       "      <td>[no smoking area, khorogat iftar, catering]</td>\n",
       "      <td>sandwiches</td>\n",
       "      <td>grill</td>\n",
       "    </tr>\n",
       "  </tbody>\n",
       "</table>\n",
       "</div>"
      ],
      "text/plain": [
       "                                  user_uuid  \\\n",
       "0  4f0181917069f1bf5259c04f14a944c49d461bab   \n",
       "1  06c7a3629566f04e19611981d0fb30dabe8d8daa   \n",
       "2  966acbc0eaf5c2cda02a242ec9caf75f98119ef9   \n",
       "3  a910926f38c18c2e00a338c7d2f6e03ee78ea7a4   \n",
       "4  aa25b862b3f7fbd71425170343c53dcd93ec10c9   \n",
       "\n",
       "                            restaurant_uuid  discounted        area  nOrders  \\\n",
       "0  bf5ee7c8457db4d32da6633baf7a047115d76af4           0  Heliopolis        1   \n",
       "1  a8f1c42a5b27f032bbd69821b3d9941939db1ecf           0       Haram        1   \n",
       "2  ef29eff86405a92b1b547b32e845497694f450c6           0       Maadi        3   \n",
       "3  66ae2fbb6d1dfc1d3b07a68839db5da163eabe68           0      Faisal        1   \n",
       "4  ef29eff86405a92b1b547b32e845497694f450c6           0       Maadi        1   \n",
       "\n",
       "                                cuisine  \\\n",
       "0       ['Egyptian' 'Oriental' 'Grill']   \n",
       "1  ['Burgers' 'Sandwiches' 'Fast Food']   \n",
       "2       ['Egyptian' 'Oriental' 'Grill']   \n",
       "3                 ['Pizza' 'Fast Food']   \n",
       "4       ['Egyptian' 'Oriental' 'Grill']   \n",
       "\n",
       "                                 restaurant_features  Ratings  \\\n",
       "0  ['No Smoking Area' 'Outdoor' 'TV' 'WiFi' 'Gril...        5   \n",
       "1  ['No Smoking Area' 'Outdoor' 'WiFi' 'Kids-Frie...        4   \n",
       "2    ['No Smoking Area' 'Khorogat Iftar' 'Catering']        4   \n",
       "3                                         ['24 hrs']        1   \n",
       "4    ['No Smoking Area' 'Khorogat Iftar' 'Catering']        4   \n",
       "\n",
       "                     Edited_cuisine  \\\n",
       "0       [egyptian, oriental, grill]   \n",
       "1  [burgers, sandwiches, fast food]   \n",
       "2       [egyptian, oriental, grill]   \n",
       "3                [pizza, fast food]   \n",
       "4       [egyptian, oriental, grill]   \n",
       "\n",
       "                                   Edited_restaurant Series_cuisine  \\\n",
       "0  [no smoking area, outdoor, tv, wifi, grill, ca...       egyptian   \n",
       "1  [no smoking area, outdoor, wifi, kids-friendly...       oriental   \n",
       "2        [no smoking area, khorogat iftar, catering]          grill   \n",
       "3                                           [24 hrs]        burgers   \n",
       "4        [no smoking area, khorogat iftar, catering]     sandwiches   \n",
       "\n",
       "  Series_resturant  \n",
       "0  no smoking area  \n",
       "1          outdoor  \n",
       "2               tv  \n",
       "3             wifi  \n",
       "4            grill  "
      ]
     },
     "execution_count": 78,
     "metadata": {},
     "output_type": "execute_result"
    }
   ],
   "source": [
    "data.head()"
   ]
  },
  {
   "cell_type": "code",
   "execution_count": 79,
   "metadata": {},
   "outputs": [
    {
     "data": {
      "text/plain": [
       "array(['egyptian', 'oriental', 'grill', 'burgers', 'sandwiches',\n",
       "       'fast food', 'pizza', 'bakeries and pastries', 'foul we ta3meya',\n",
       "       'desserts', 'chicken', 'syrian', 'international', 'vegetarian',\n",
       "       'koshary', 'german', 'american', 'asian', 'chinese', 'italian',\n",
       "       'seafood', 'tarts and chocolates', 'coffee & drinks', 'french',\n",
       "       'steaks', 'japanese', 'sushi', 'lebanese', 'tex-mex', 'turkish',\n",
       "       'indian', 'european', 'mexican', 'thai', 'spanish', 'argentinian'],\n",
       "      dtype=object)"
      ]
     },
     "execution_count": 79,
     "metadata": {},
     "output_type": "execute_result"
    }
   ],
   "source": [
    "data['Series_cuisine'].unique()"
   ]
  },
  {
   "cell_type": "code",
   "execution_count": 80,
   "metadata": {},
   "outputs": [
    {
     "data": {
      "text/plain": [
       "array(['no smoking area', 'outdoor', 'tv', 'wifi', 'grill', 'catering',\n",
       "       'kids-friendly', 'playground', '24 hrs', 'khorogat iftar',\n",
       "       'breakfast', 'work or study', 'coffeeshops', 'sohour w khorouga',\n",
       "       'cheap eats', 'casual dining', 'drive-ins',\n",
       "       'khorogat iftar\\r\\n breakfast', 'hidden gems',\n",
       "       'post fetar hangouts', 'food with a view\\r\\n nile/sea view',\n",
       "       'alcohol', 'food with a view', 'pet friendly',\n",
       "       'coffeeshops\\r\\n coffee places', 'playground\\r\\n food with a view',\n",
       "       'nile/sea view', 'iftar', 'open during day', 'romantic',\n",
       "       'street food', 'breakfast\\r\\n catering', '24 hrs\\r\\n breakfast',\n",
       "       'khorogat iftar\\r\\n sohour w khorouga', 'fancy dining',\n",
       "       'playground\\r\\n breakfast', 'kids-friendly\\r\\n grill',\n",
       "       'playground\\r\\n post fetar hangouts', 'catering\\r\\n work or study',\n",
       "       'breakfast in sahel\\r\\n work or study',\n",
       "       'khorogat iftar\\r\\n kids-friendly',\n",
       "       'khorogat iftar\\r\\n playground', 'live music',\n",
       "       'sohour w khorouga\\r\\n iftar open buffet', 'shisha',\n",
       "       'sokhna seafood', 'pride of alex',\n",
       "       'food with a view\\r\\n breakfast', 'coffee places',\n",
       "       'breakfast in sahel', 'ramadan tents\\r\\n ramadan fel hussein'],\n",
       "      dtype=object)"
      ]
     },
     "execution_count": 80,
     "metadata": {},
     "output_type": "execute_result"
    }
   ],
   "source": [
    "data['Series_resturant'].unique()"
   ]
  },
  {
   "cell_type": "markdown",
   "metadata": {},
   "source": [
    "- There are data containg (\\r\\n) "
   ]
  },
  {
   "cell_type": "code",
   "execution_count": 81,
   "metadata": {},
   "outputs": [],
   "source": [
    "data['Edited_restaurant'] = data['Edited_restaurant'] .apply(lambda x : str(x))\n",
    "\n",
    "data['Edited_restaurant']=data['Edited_restaurant'].apply(lambda x:x.replace(\"\\\\r\\\\n\",\",\"))\n"
   ]
  },
  {
   "cell_type": "code",
   "execution_count": 82,
   "metadata": {},
   "outputs": [],
   "source": [
    "data['Edited_restaurant'] =to_list(data['Edited_restaurant'] )"
   ]
  },
  {
   "cell_type": "code",
   "execution_count": 83,
   "metadata": {},
   "outputs": [],
   "source": [
    "data['Series_resturant']=pd.Series([x for l in data['Edited_restaurant'] for x in l])"
   ]
  },
  {
   "cell_type": "code",
   "execution_count": 84,
   "metadata": {},
   "outputs": [
    {
     "data": {
      "text/plain": [
       "array(['no smoking area', ' outdoor', ' tv', ' wifi', ' grill',\n",
       "       ' catering', ' kids-friendly', ' playground', ' 24 hrs',\n",
       "       ' khorogat iftar', '24 hrs', 'khorogat iftar', ' breakfast',\n",
       "       ' work or study', ' coffeeshops', 'outdoor', ' sohour w khorouga',\n",
       "       ' cheap eats', ' casual dining', ' drive-ins', 'casual dining',\n",
       "       ' hidden gems', ' post fetar hangouts', ' food with a view',\n",
       "       ' nile/sea view', 'catering', ' alcohol', 'tv', ' pet friendly',\n",
       "       ' coffee places', ' iftar', ' open during day', ' romantic',\n",
       "       ' street food', 'wifi', 'fancy dining', 'breakfast',\n",
       "       'sohour w khorouga', 'grill', 'nile/sea view', ' fancy dining',\n",
       "       'playground', 'pet friendly', ' breakfast in sahel', 'cheap eats',\n",
       "       ' live music', ' iftar open buffet', ' shisha', ' sokhna seafood',\n",
       "       ' pride of alex', 'hidden gems', 'kids-friendly', ' ramadan tents',\n",
       "       ' ramadan fel hussein'], dtype=object)"
      ]
     },
     "execution_count": 84,
     "metadata": {},
     "output_type": "execute_result"
    }
   ],
   "source": [
    "data['Series_resturant'].unique()"
   ]
  },
  {
   "cell_type": "markdown",
   "metadata": {},
   "source": [
    "- There is repaeted data but with space as \n",
    "' tv' , 'tv'\n",
    "' 24 hrs' , '24 hrs'\n",
    "so we need to fix them\n"
   ]
  },
  {
   "cell_type": "code",
   "execution_count": 85,
   "metadata": {},
   "outputs": [],
   "source": [
    "data['Edited_restaurant'] = data['Edited_restaurant'] .apply(lambda x : str(x))\n",
    "\n",
    "data['Edited_restaurant']=data['Edited_restaurant'].apply(lambda x : x.replace(\" \",\"\"))"
   ]
  },
  {
   "cell_type": "code",
   "execution_count": 86,
   "metadata": {},
   "outputs": [],
   "source": [
    "data['Edited_restaurant'] =to_list(data['Edited_restaurant'] )"
   ]
  },
  {
   "cell_type": "code",
   "execution_count": 87,
   "metadata": {},
   "outputs": [],
   "source": [
    "data['Series_resturant']=pd.Series([x for l in data['Edited_restaurant'] for x in l])\n"
   ]
  },
  {
   "cell_type": "code",
   "execution_count": 88,
   "metadata": {},
   "outputs": [
    {
     "data": {
      "text/plain": [
       "array(['nosmokingarea', 'outdoor', 'tv', 'wifi', 'grill', 'catering',\n",
       "       'kids-friendly', 'playground', '24hrs', 'khorogatiftar',\n",
       "       'breakfast', 'workorstudy', 'coffeeshops', 'sohourwkhorouga',\n",
       "       'cheapeats', 'casualdining', 'drive-ins', 'hiddengems',\n",
       "       'postfetarhangouts', 'foodwithaview', 'nile/seaview', 'alcohol',\n",
       "       'petfriendly', 'coffeeplaces', 'iftar', 'openduringday',\n",
       "       'romantic', 'streetfood', 'fancydining', 'breakfastinsahel',\n",
       "       'livemusic', 'iftaropenbuffet', 'shisha', 'sokhnaseafood',\n",
       "       'prideofalex', 'ramadantents', 'ramadanfelhussein'], dtype=object)"
      ]
     },
     "execution_count": 88,
     "metadata": {},
     "output_type": "execute_result"
    }
   ],
   "source": [
    "data['Series_resturant'].unique()"
   ]
  },
  {
   "cell_type": "markdown",
   "metadata": {},
   "source": [
    "- The data is clean and does't contain false records anymore"
   ]
  },
  {
   "cell_type": "markdown",
   "metadata": {},
   "source": [
    "### Data Exploration"
   ]
  },
  {
   "cell_type": "code",
   "execution_count": 89,
   "metadata": {},
   "outputs": [
    {
     "data": {
      "text/html": [
       "<div>\n",
       "<style scoped>\n",
       "    .dataframe tbody tr th:only-of-type {\n",
       "        vertical-align: middle;\n",
       "    }\n",
       "\n",
       "    .dataframe tbody tr th {\n",
       "        vertical-align: top;\n",
       "    }\n",
       "\n",
       "    .dataframe thead th {\n",
       "        text-align: right;\n",
       "    }\n",
       "</style>\n",
       "<table border=\"1\" class=\"dataframe\">\n",
       "  <thead>\n",
       "    <tr style=\"text-align: right;\">\n",
       "      <th></th>\n",
       "      <th>user_uuid</th>\n",
       "      <th>restaurant_uuid</th>\n",
       "      <th>discounted</th>\n",
       "      <th>area</th>\n",
       "      <th>nOrders</th>\n",
       "      <th>cuisine</th>\n",
       "      <th>restaurant_features</th>\n",
       "      <th>Ratings</th>\n",
       "      <th>Edited_cuisine</th>\n",
       "      <th>Edited_restaurant</th>\n",
       "      <th>Series_cuisine</th>\n",
       "      <th>Series_resturant</th>\n",
       "    </tr>\n",
       "  </thead>\n",
       "  <tbody>\n",
       "    <tr>\n",
       "      <th>0</th>\n",
       "      <td>4f0181917069f1bf5259c04f14a944c49d461bab</td>\n",
       "      <td>bf5ee7c8457db4d32da6633baf7a047115d76af4</td>\n",
       "      <td>0</td>\n",
       "      <td>Heliopolis</td>\n",
       "      <td>1</td>\n",
       "      <td>['Egyptian' 'Oriental' 'Grill']</td>\n",
       "      <td>['No Smoking Area' 'Outdoor' 'TV' 'WiFi' 'Gril...</td>\n",
       "      <td>5</td>\n",
       "      <td>[egyptian, oriental, grill]</td>\n",
       "      <td>[nosmokingarea, outdoor, tv, wifi, grill, cate...</td>\n",
       "      <td>egyptian</td>\n",
       "      <td>nosmokingarea</td>\n",
       "    </tr>\n",
       "    <tr>\n",
       "      <th>1</th>\n",
       "      <td>06c7a3629566f04e19611981d0fb30dabe8d8daa</td>\n",
       "      <td>a8f1c42a5b27f032bbd69821b3d9941939db1ecf</td>\n",
       "      <td>0</td>\n",
       "      <td>Haram</td>\n",
       "      <td>1</td>\n",
       "      <td>['Burgers' 'Sandwiches' 'Fast Food']</td>\n",
       "      <td>['No Smoking Area' 'Outdoor' 'WiFi' 'Kids-Frie...</td>\n",
       "      <td>4</td>\n",
       "      <td>[burgers, sandwiches, fast food]</td>\n",
       "      <td>[nosmokingarea, outdoor, wifi, kids-friendly, ...</td>\n",
       "      <td>oriental</td>\n",
       "      <td>outdoor</td>\n",
       "    </tr>\n",
       "    <tr>\n",
       "      <th>2</th>\n",
       "      <td>966acbc0eaf5c2cda02a242ec9caf75f98119ef9</td>\n",
       "      <td>ef29eff86405a92b1b547b32e845497694f450c6</td>\n",
       "      <td>0</td>\n",
       "      <td>Maadi</td>\n",
       "      <td>3</td>\n",
       "      <td>['Egyptian' 'Oriental' 'Grill']</td>\n",
       "      <td>['No Smoking Area' 'Khorogat Iftar' 'Catering']</td>\n",
       "      <td>4</td>\n",
       "      <td>[egyptian, oriental, grill]</td>\n",
       "      <td>[nosmokingarea, khorogatiftar, catering]</td>\n",
       "      <td>grill</td>\n",
       "      <td>tv</td>\n",
       "    </tr>\n",
       "    <tr>\n",
       "      <th>3</th>\n",
       "      <td>a910926f38c18c2e00a338c7d2f6e03ee78ea7a4</td>\n",
       "      <td>66ae2fbb6d1dfc1d3b07a68839db5da163eabe68</td>\n",
       "      <td>0</td>\n",
       "      <td>Faisal</td>\n",
       "      <td>1</td>\n",
       "      <td>['Pizza' 'Fast Food']</td>\n",
       "      <td>['24 hrs']</td>\n",
       "      <td>1</td>\n",
       "      <td>[pizza, fast food]</td>\n",
       "      <td>[24hrs]</td>\n",
       "      <td>burgers</td>\n",
       "      <td>wifi</td>\n",
       "    </tr>\n",
       "    <tr>\n",
       "      <th>4</th>\n",
       "      <td>aa25b862b3f7fbd71425170343c53dcd93ec10c9</td>\n",
       "      <td>ef29eff86405a92b1b547b32e845497694f450c6</td>\n",
       "      <td>0</td>\n",
       "      <td>Maadi</td>\n",
       "      <td>1</td>\n",
       "      <td>['Egyptian' 'Oriental' 'Grill']</td>\n",
       "      <td>['No Smoking Area' 'Khorogat Iftar' 'Catering']</td>\n",
       "      <td>4</td>\n",
       "      <td>[egyptian, oriental, grill]</td>\n",
       "      <td>[nosmokingarea, khorogatiftar, catering]</td>\n",
       "      <td>sandwiches</td>\n",
       "      <td>grill</td>\n",
       "    </tr>\n",
       "  </tbody>\n",
       "</table>\n",
       "</div>"
      ],
      "text/plain": [
       "                                  user_uuid  \\\n",
       "0  4f0181917069f1bf5259c04f14a944c49d461bab   \n",
       "1  06c7a3629566f04e19611981d0fb30dabe8d8daa   \n",
       "2  966acbc0eaf5c2cda02a242ec9caf75f98119ef9   \n",
       "3  a910926f38c18c2e00a338c7d2f6e03ee78ea7a4   \n",
       "4  aa25b862b3f7fbd71425170343c53dcd93ec10c9   \n",
       "\n",
       "                            restaurant_uuid  discounted        area  nOrders  \\\n",
       "0  bf5ee7c8457db4d32da6633baf7a047115d76af4           0  Heliopolis        1   \n",
       "1  a8f1c42a5b27f032bbd69821b3d9941939db1ecf           0       Haram        1   \n",
       "2  ef29eff86405a92b1b547b32e845497694f450c6           0       Maadi        3   \n",
       "3  66ae2fbb6d1dfc1d3b07a68839db5da163eabe68           0      Faisal        1   \n",
       "4  ef29eff86405a92b1b547b32e845497694f450c6           0       Maadi        1   \n",
       "\n",
       "                                cuisine  \\\n",
       "0       ['Egyptian' 'Oriental' 'Grill']   \n",
       "1  ['Burgers' 'Sandwiches' 'Fast Food']   \n",
       "2       ['Egyptian' 'Oriental' 'Grill']   \n",
       "3                 ['Pizza' 'Fast Food']   \n",
       "4       ['Egyptian' 'Oriental' 'Grill']   \n",
       "\n",
       "                                 restaurant_features  Ratings  \\\n",
       "0  ['No Smoking Area' 'Outdoor' 'TV' 'WiFi' 'Gril...        5   \n",
       "1  ['No Smoking Area' 'Outdoor' 'WiFi' 'Kids-Frie...        4   \n",
       "2    ['No Smoking Area' 'Khorogat Iftar' 'Catering']        4   \n",
       "3                                         ['24 hrs']        1   \n",
       "4    ['No Smoking Area' 'Khorogat Iftar' 'Catering']        4   \n",
       "\n",
       "                     Edited_cuisine  \\\n",
       "0       [egyptian, oriental, grill]   \n",
       "1  [burgers, sandwiches, fast food]   \n",
       "2       [egyptian, oriental, grill]   \n",
       "3                [pizza, fast food]   \n",
       "4       [egyptian, oriental, grill]   \n",
       "\n",
       "                                   Edited_restaurant Series_cuisine  \\\n",
       "0  [nosmokingarea, outdoor, tv, wifi, grill, cate...       egyptian   \n",
       "1  [nosmokingarea, outdoor, wifi, kids-friendly, ...       oriental   \n",
       "2           [nosmokingarea, khorogatiftar, catering]          grill   \n",
       "3                                            [24hrs]        burgers   \n",
       "4           [nosmokingarea, khorogatiftar, catering]     sandwiches   \n",
       "\n",
       "  Series_resturant  \n",
       "0    nosmokingarea  \n",
       "1          outdoor  \n",
       "2               tv  \n",
       "3             wifi  \n",
       "4            grill  "
      ]
     },
     "execution_count": 89,
     "metadata": {},
     "output_type": "execute_result"
    }
   ],
   "source": [
    "data.head()"
   ]
  },
  {
   "cell_type": "code",
   "execution_count": 90,
   "metadata": {},
   "outputs": [
    {
     "data": {
      "text/html": [
       "<div>\n",
       "<style scoped>\n",
       "    .dataframe tbody tr th:only-of-type {\n",
       "        vertical-align: middle;\n",
       "    }\n",
       "\n",
       "    .dataframe tbody tr th {\n",
       "        vertical-align: top;\n",
       "    }\n",
       "\n",
       "    .dataframe thead th {\n",
       "        text-align: right;\n",
       "    }\n",
       "</style>\n",
       "<table border=\"1\" class=\"dataframe\">\n",
       "  <thead>\n",
       "    <tr style=\"text-align: right;\">\n",
       "      <th></th>\n",
       "      <th>discounted</th>\n",
       "      <th>nOrders</th>\n",
       "      <th>Ratings</th>\n",
       "    </tr>\n",
       "  </thead>\n",
       "  <tbody>\n",
       "    <tr>\n",
       "      <th>count</th>\n",
       "      <td>79373.000000</td>\n",
       "      <td>79373.000000</td>\n",
       "      <td>79373.000000</td>\n",
       "    </tr>\n",
       "    <tr>\n",
       "      <th>mean</th>\n",
       "      <td>0.237247</td>\n",
       "      <td>1.362680</td>\n",
       "      <td>3.492762</td>\n",
       "    </tr>\n",
       "    <tr>\n",
       "      <th>std</th>\n",
       "      <td>0.425398</td>\n",
       "      <td>0.892699</td>\n",
       "      <td>1.432013</td>\n",
       "    </tr>\n",
       "    <tr>\n",
       "      <th>min</th>\n",
       "      <td>0.000000</td>\n",
       "      <td>1.000000</td>\n",
       "      <td>1.000000</td>\n",
       "    </tr>\n",
       "    <tr>\n",
       "      <th>25%</th>\n",
       "      <td>0.000000</td>\n",
       "      <td>1.000000</td>\n",
       "      <td>2.000000</td>\n",
       "    </tr>\n",
       "    <tr>\n",
       "      <th>50%</th>\n",
       "      <td>0.000000</td>\n",
       "      <td>1.000000</td>\n",
       "      <td>4.000000</td>\n",
       "    </tr>\n",
       "    <tr>\n",
       "      <th>75%</th>\n",
       "      <td>0.000000</td>\n",
       "      <td>1.000000</td>\n",
       "      <td>5.000000</td>\n",
       "    </tr>\n",
       "    <tr>\n",
       "      <th>max</th>\n",
       "      <td>1.000000</td>\n",
       "      <td>39.000000</td>\n",
       "      <td>5.000000</td>\n",
       "    </tr>\n",
       "  </tbody>\n",
       "</table>\n",
       "</div>"
      ],
      "text/plain": [
       "         discounted       nOrders       Ratings\n",
       "count  79373.000000  79373.000000  79373.000000\n",
       "mean       0.237247      1.362680      3.492762\n",
       "std        0.425398      0.892699      1.432013\n",
       "min        0.000000      1.000000      1.000000\n",
       "25%        0.000000      1.000000      2.000000\n",
       "50%        0.000000      1.000000      4.000000\n",
       "75%        0.000000      1.000000      5.000000\n",
       "max        1.000000     39.000000      5.000000"
      ]
     },
     "execution_count": 90,
     "metadata": {},
     "output_type": "execute_result"
    }
   ],
   "source": [
    "data.describe()"
   ]
  },
  {
   "cell_type": "code",
   "execution_count": 91,
   "metadata": {},
   "outputs": [
    {
     "name": "stderr",
     "output_type": "stream",
     "text": [
      "C:\\Users\\Dell\\AppData\\Local\\Temp\\ipykernel_18692\\2627137660.py:1: FutureWarning: The default value of numeric_only in DataFrame.corr is deprecated. In a future version, it will default to False. Select only valid columns or specify the value of numeric_only to silence this warning.\n",
      "  data.corr()\n"
     ]
    },
    {
     "data": {
      "text/html": [
       "<div>\n",
       "<style scoped>\n",
       "    .dataframe tbody tr th:only-of-type {\n",
       "        vertical-align: middle;\n",
       "    }\n",
       "\n",
       "    .dataframe tbody tr th {\n",
       "        vertical-align: top;\n",
       "    }\n",
       "\n",
       "    .dataframe thead th {\n",
       "        text-align: right;\n",
       "    }\n",
       "</style>\n",
       "<table border=\"1\" class=\"dataframe\">\n",
       "  <thead>\n",
       "    <tr style=\"text-align: right;\">\n",
       "      <th></th>\n",
       "      <th>discounted</th>\n",
       "      <th>nOrders</th>\n",
       "      <th>Ratings</th>\n",
       "    </tr>\n",
       "  </thead>\n",
       "  <tbody>\n",
       "    <tr>\n",
       "      <th>discounted</th>\n",
       "      <td>1.000000</td>\n",
       "      <td>-0.049056</td>\n",
       "      <td>0.079828</td>\n",
       "    </tr>\n",
       "    <tr>\n",
       "      <th>nOrders</th>\n",
       "      <td>-0.049056</td>\n",
       "      <td>1.000000</td>\n",
       "      <td>0.069322</td>\n",
       "    </tr>\n",
       "    <tr>\n",
       "      <th>Ratings</th>\n",
       "      <td>0.079828</td>\n",
       "      <td>0.069322</td>\n",
       "      <td>1.000000</td>\n",
       "    </tr>\n",
       "  </tbody>\n",
       "</table>\n",
       "</div>"
      ],
      "text/plain": [
       "            discounted   nOrders   Ratings\n",
       "discounted    1.000000 -0.049056  0.079828\n",
       "nOrders      -0.049056  1.000000  0.069322\n",
       "Ratings       0.079828  0.069322  1.000000"
      ]
     },
     "execution_count": 91,
     "metadata": {},
     "output_type": "execute_result"
    }
   ],
   "source": [
    "data.corr()"
   ]
  },
  {
   "cell_type": "markdown",
   "metadata": {},
   "source": [
    "### Data Visualization"
   ]
  },
  {
   "cell_type": "code",
   "execution_count": 92,
   "metadata": {},
   "outputs": [
    {
     "data": {
      "image/png": "[encoded data removed]",
      "text/plain": [
       "<Figure size 640x480 with 1 Axes>"
      ]
     },
     "metadata": {},
     "output_type": "display_data"
    }
   ],
   "source": [
    "sns.countplot(x='area', data=data)\n",
    "plt.xlabel('Area')\n",
    "plt.ylabel('Number of restaurant')\n",
    "plt.xticks(rotation='vertical')\n",
    "\n",
    "plt.show()"
   ]
  },
  {
   "cell_type": "markdown",
   "metadata": {},
   "source": [
    "- *Maadi* contains the largest number of resturants"
   ]
  },
  {
   "cell_type": "code",
   "execution_count": 93,
   "metadata": {},
   "outputs": [
    {
     "data": {
      "image/png": "[encoded data removed]",
      "text/plain": [
       "<Figure size 640x480 with 1 Axes>"
      ]
     },
     "metadata": {},
     "output_type": "display_data"
    }
   ],
   "source": [
    "sns.countplot(x='nOrders', data=data)\n",
    "plt.xlabel('Number of orders')\n",
    "plt.ylabel('Number of restaurant')\n",
    "\n",
    "plt.show()"
   ]
  },
  {
   "cell_type": "code",
   "execution_count": 94,
   "metadata": {},
   "outputs": [
    {
     "data": {
      "image/png": "[encoded data removed]",
      "text/plain": [
       "<Figure size 640x480 with 1 Axes>"
      ]
     },
     "metadata": {},
     "output_type": "display_data"
    }
   ],
   "source": [
    "sns.countplot(x='area', data=data, hue='discounted', palette='viridis')\n",
    "\n",
    "plt.xlabel('Area')\n",
    "plt.ylabel('Number of restaurant')\n",
    "plt.title('Effect of discounts on Area')\n",
    "plt.xticks(rotation='vertical')\n",
    "\n",
    "plt.show()"
   ]
  },
  {
   "cell_type": "markdown",
   "metadata": {},
   "source": [
    "<!-- - Most resturants don't apply discounts -->"
   ]
  },
  {
   "cell_type": "code",
   "execution_count": 95,
   "metadata": {},
   "outputs": [
    {
     "data": {
      "image/png": "[encoded data removed]",
      "text/plain": [
       "<Figure size 640x480 with 1 Axes>"
      ]
     },
     "metadata": {},
     "output_type": "display_data"
    }
   ],
   "source": [
    "sns.countplot(x='Series_cuisine', data=data)\n",
    "plt.xlabel('Cuisines')\n",
    "plt.ylabel('Number of restaurant')\n",
    "plt.xticks(rotation='vertical')\n",
    "\n",
    "plt.show()"
   ]
  },
  {
   "cell_type": "markdown",
   "metadata": {},
   "source": [
    "- Most of the resturant buy Fast food and Sandwichs\n"
   ]
  },
  {
   "cell_type": "code",
   "execution_count": 96,
   "metadata": {},
   "outputs": [
    {
     "data": {
      "image/png": "[encoded data removed]",
      "text/plain": [
       "<Figure size 640x480 with 1 Axes>"
      ]
     },
     "metadata": {},
     "output_type": "display_data"
    }
   ],
   "source": [
    "sns.countplot(x='Series_resturant', data=data)\n",
    "plt.xlabel('Resturant Features')\n",
    "plt.ylabel('Number of restaurant')\n",
    "plt.xticks(rotation='vertical')\n",
    "\n",
    "plt.show()"
   ]
  },
  {
   "cell_type": "markdown",
   "metadata": {},
   "source": [
    "- Most of the resturants have non smoking and outdoor area"
   ]
  },
  {
   "cell_type": "code",
   "execution_count": 97,
   "metadata": {},
   "outputs": [
    {
     "data": {
      "text/plain": [
       "(array([ 0,  1,  2,  3,  4,  5,  6,  7,  8,  9, 10, 11, 12, 13, 14, 15, 16,\n",
       "        17, 18, 19, 20, 21, 22, 23, 24, 25, 26, 27, 28, 29, 30, 31, 32, 33,\n",
       "        34, 35, 36, 37, 38, 39, 40, 41, 42]),\n",
       " [Text(0, 0, 'Heliopolis'),\n",
       "  Text(1, 0, 'Haram'),\n",
       "  Text(2, 0, 'Maadi'),\n",
       "  Text(3, 0, 'Faisal'),\n",
       "  Text(4, 0, 'Nasr City'),\n",
       "  Text(5, 0, 'Al Rehab City'),\n",
       "  Text(6, 0, 'Mohandessin'),\n",
       "  Text(7, 0, 'New Cairo'),\n",
       "  Text(8, 0, 'Masaken Sheraton'),\n",
       "  Text(9, 0, 'Zamalek'),\n",
       "  Text(10, 0, 'Sheikh Zayed'),\n",
       "  Text(11, 0, 'Abbassiya'),\n",
       "  Text(12, 0, 'Dokki'),\n",
       "  Text(13, 0, 'Manial'),\n",
       "  Text(14, 0, '6th of October'),\n",
       "  Text(15, 0, 'Madinaty'),\n",
       "  Text(16, 0, 'Al Mokatam'),\n",
       "  Text(17, 0, 'Downtown'),\n",
       "  Text(18, 0, 'Ain Shams'),\n",
       "  Text(19, 0, 'Stanley'),\n",
       "  Text(20, 0, 'Shoubra'),\n",
       "  Text(21, 0, 'Louran'),\n",
       "  Text(22, 0, 'Hadayek El Ahram'),\n",
       "  Text(23, 0, 'Agouza'),\n",
       "  Text(24, 0, 'Al Shatby'),\n",
       "  Text(25, 0, 'El Sayeda Zeinab'),\n",
       "  Text(26, 0, 'Hadayek El Kobba'),\n",
       "  Text(27, 0, 'Semouha'),\n",
       "  Text(28, 0, 'Al Raml Station'),\n",
       "  Text(29, 0, 'Smart Village'),\n",
       "  Text(30, 0, 'Alexandria Desert Road'),\n",
       "  Text(31, 0, 'Kafr Abdo'),\n",
       "  Text(32, 0, 'Garden City'),\n",
       "  Text(33, 0, 'Imbaba'),\n",
       "  Text(34, 0, 'Cleopatra'),\n",
       "  Text(35, 0, 'Giza'),\n",
       "  Text(36, 0, 'Sporting'),\n",
       "  Text(37, 0, 'Sidi Beshr Mohamed Naguib'),\n",
       "  Text(38, 0, 'Al Katameya'),\n",
       "  Text(39, 0, 'Ras Sudr'),\n",
       "  Text(40, 0, 'Moharam Bek'),\n",
       "  Text(41, 0, 'Misr El Kadima'),\n",
       "  Text(42, 0, 'Camp Cesar')])"
      ]
     },
     "execution_count": 97,
     "metadata": {},
     "output_type": "execute_result"
    },
    {
     "data": {
      "image/png": "[encoded data removed]",
      "text/plain": [
       "<Figure size 640x480 with 1 Axes>"
      ]
     },
     "metadata": {},
     "output_type": "display_data"
    }
   ],
   "source": [
    "sns.barplot(x='area', y='Ratings', data=data, color='salmon', saturation=.8)\n",
    "plt.xticks(rotation='vertical')\n",
    "\n"
   ]
  },
  {
   "cell_type": "markdown",
   "metadata": {},
   "source": [
    "- The highesrt resturant ratings is in *Mohandessin*"
   ]
  },
  {
   "cell_type": "code",
   "execution_count": 98,
   "metadata": {},
   "outputs": [
    {
     "data": {
      "text/plain": [
       "<AxesSubplot: xlabel='discounted', ylabel='Ratings'>"
      ]
     },
     "execution_count": 98,
     "metadata": {},
     "output_type": "execute_result"
    },
    {
     "data": {
      "image/png": "[encoded data removed]",
      "text/plain": [
       "<Figure size 640x480 with 1 Axes>"
      ]
     },
     "metadata": {},
     "output_type": "display_data"
    }
   ],
   "source": [
    "sns.barplot(x='discounted', y='Ratings', data=data, color='salmon', saturation=.8)\n",
    "\n"
   ]
  },
  {
   "cell_type": "markdown",
   "metadata": {},
   "source": [
    "- resturants with discountes gets slightly higher ratings"
   ]
  },
  {
   "cell_type": "code",
   "execution_count": 99,
   "metadata": {},
   "outputs": [
    {
     "name": "stderr",
     "output_type": "stream",
     "text": [
      "C:\\Users\\Dell\\AppData\\Local\\Temp\\ipykernel_18692\\3422789425.py:1: FutureWarning: The default value of numeric_only in DataFrame.corr is deprecated. In a future version, it will default to False. Select only valid columns or specify the value of numeric_only to silence this warning.\n",
      "  sns.heatmap(data=data.corr(),annot=True)\n"
     ]
    },
    {
     "data": {
      "text/plain": [
       "<AxesSubplot: >"
      ]
     },
     "execution_count": 99,
     "metadata": {},
     "output_type": "execute_result"
    },
    {
     "data": {
      "image/png": "[encoded data removed]",
      "text/plain": [
       "<Figure size 640x480 with 2 Axes>"
      ]
     },
     "metadata": {},
     "output_type": "display_data"
    }
   ],
   "source": [
    "sns.heatmap(data=data.corr(),annot=True) "
   ]
  },
  {
   "cell_type": "code",
   "execution_count": 100,
   "metadata": {},
   "outputs": [
    {
     "name": "stderr",
     "output_type": "stream",
     "text": [
      "C:\\Users\\Dell\\AppData\\Roaming\\Python\\Python39\\site-packages\\seaborn\\_oldcore.py:1599: UserWarning: Vertical orientation ignored with only `x` specified.\n",
      "  warnings.warn(single_var_warning.format(\"Vertical\", \"x\"))\n"
     ]
    },
    {
     "data": {
      "text/plain": [
       "Text(0.5, 1.0, 'Number of orders outliers')"
      ]
     },
     "execution_count": 100,
     "metadata": {},
     "output_type": "execute_result"
    },
    {
     "data": {
      "image/png": "[encoded data removed]",
      "text/plain": [
       "<Figure size 1500x600 with 2 Axes>"
      ]
     },
     "metadata": {},
     "output_type": "display_data"
    }
   ],
   "source": [
    "\n",
    "fig, axes = plt.subplots(1, 2,figsize=(15,6)) \n",
    "\n",
    "sns.boxplot(x='Ratings', data=data, color='red', ax=axes[0]).set(title='Ratings outliers') \n",
    "\n",
    "sns.boxplot(x='nOrders', data=data, orient='v', ax=axes[1]).set_title('Number of orders outliers') "
   ]
  },
  {
   "cell_type": "code",
   "execution_count": 101,
   "metadata": {},
   "outputs": [
    {
     "data": {
      "text/html": [
       "<div>\n",
       "<style scoped>\n",
       "    .dataframe tbody tr th:only-of-type {\n",
       "        vertical-align: middle;\n",
       "    }\n",
       "\n",
       "    .dataframe tbody tr th {\n",
       "        vertical-align: top;\n",
       "    }\n",
       "\n",
       "    .dataframe thead th {\n",
       "        text-align: right;\n",
       "    }\n",
       "</style>\n",
       "<table border=\"1\" class=\"dataframe\">\n",
       "  <thead>\n",
       "    <tr style=\"text-align: right;\">\n",
       "      <th></th>\n",
       "      <th>user_uuid</th>\n",
       "      <th>restaurant_uuid</th>\n",
       "      <th>discounted</th>\n",
       "      <th>area</th>\n",
       "      <th>nOrders</th>\n",
       "      <th>cuisine</th>\n",
       "      <th>restaurant_features</th>\n",
       "      <th>Ratings</th>\n",
       "      <th>Edited_cuisine</th>\n",
       "      <th>Edited_restaurant</th>\n",
       "      <th>Series_cuisine</th>\n",
       "      <th>Series_resturant</th>\n",
       "    </tr>\n",
       "  </thead>\n",
       "  <tbody>\n",
       "    <tr>\n",
       "      <th>77631</th>\n",
       "      <td>503ed7d224c156ebd6f8d252729ddeeef3867598</td>\n",
       "      <td>1f923416f57edcb765c8df7d7ded0fd84eafa854</td>\n",
       "      <td>1</td>\n",
       "      <td>Maadi</td>\n",
       "      <td>39</td>\n",
       "      <td>['Egyptian' 'Grill']</td>\n",
       "      <td>['Outdoor' 'Khorogat Iftar']</td>\n",
       "      <td>2</td>\n",
       "      <td>[egyptian, grill]</td>\n",
       "      <td>[outdoor, khorogatiftar]</td>\n",
       "      <td>sandwiches</td>\n",
       "      <td>nosmokingarea</td>\n",
       "    </tr>\n",
       "  </tbody>\n",
       "</table>\n",
       "</div>"
      ],
      "text/plain": [
       "                                      user_uuid  \\\n",
       "77631  503ed7d224c156ebd6f8d252729ddeeef3867598   \n",
       "\n",
       "                                restaurant_uuid  discounted   area  nOrders  \\\n",
       "77631  1f923416f57edcb765c8df7d7ded0fd84eafa854           1  Maadi       39   \n",
       "\n",
       "                    cuisine           restaurant_features  Ratings  \\\n",
       "77631  ['Egyptian' 'Grill']  ['Outdoor' 'Khorogat Iftar']        2   \n",
       "\n",
       "          Edited_cuisine         Edited_restaurant Series_cuisine  \\\n",
       "77631  [egyptian, grill]  [outdoor, khorogatiftar]     sandwiches   \n",
       "\n",
       "      Series_resturant  \n",
       "77631    nosmokingarea  "
      ]
     },
     "execution_count": 101,
     "metadata": {},
     "output_type": "execute_result"
    }
   ],
   "source": [
    "data[data.nOrders>36] "
   ]
  },
  {
   "cell_type": "markdown",
   "metadata": {},
   "source": [
    "### Data Processing"
   ]
  },
  {
   "cell_type": "code",
   "execution_count": 102,
   "metadata": {},
   "outputs": [],
   "source": [
    "data=data.drop('restaurant_uuid',axis=1)\n",
    "data=data.drop('user_uuid',axis=1)"
   ]
  },
  {
   "cell_type": "code",
   "execution_count": 103,
   "metadata": {},
   "outputs": [
    {
     "data": {
      "text/html": [
       "<div>\n",
       "<style scoped>\n",
       "    .dataframe tbody tr th:only-of-type {\n",
       "        vertical-align: middle;\n",
       "    }\n",
       "\n",
       "    .dataframe tbody tr th {\n",
       "        vertical-align: top;\n",
       "    }\n",
       "\n",
       "    .dataframe thead th {\n",
       "        text-align: right;\n",
       "    }\n",
       "</style>\n",
       "<table border=\"1\" class=\"dataframe\">\n",
       "  <thead>\n",
       "    <tr style=\"text-align: right;\">\n",
       "      <th></th>\n",
       "      <th>discounted</th>\n",
       "      <th>area</th>\n",
       "      <th>nOrders</th>\n",
       "      <th>cuisine</th>\n",
       "      <th>restaurant_features</th>\n",
       "      <th>Ratings</th>\n",
       "      <th>Edited_cuisine</th>\n",
       "      <th>Edited_restaurant</th>\n",
       "      <th>Series_cuisine</th>\n",
       "      <th>Series_resturant</th>\n",
       "    </tr>\n",
       "  </thead>\n",
       "  <tbody>\n",
       "    <tr>\n",
       "      <th>0</th>\n",
       "      <td>0</td>\n",
       "      <td>Heliopolis</td>\n",
       "      <td>1</td>\n",
       "      <td>['Egyptian' 'Oriental' 'Grill']</td>\n",
       "      <td>['No Smoking Area' 'Outdoor' 'TV' 'WiFi' 'Gril...</td>\n",
       "      <td>5</td>\n",
       "      <td>[egyptian, oriental, grill]</td>\n",
       "      <td>[nosmokingarea, outdoor, tv, wifi, grill, cate...</td>\n",
       "      <td>egyptian</td>\n",
       "      <td>nosmokingarea</td>\n",
       "    </tr>\n",
       "    <tr>\n",
       "      <th>1</th>\n",
       "      <td>0</td>\n",
       "      <td>Haram</td>\n",
       "      <td>1</td>\n",
       "      <td>['Burgers' 'Sandwiches' 'Fast Food']</td>\n",
       "      <td>['No Smoking Area' 'Outdoor' 'WiFi' 'Kids-Frie...</td>\n",
       "      <td>4</td>\n",
       "      <td>[burgers, sandwiches, fast food]</td>\n",
       "      <td>[nosmokingarea, outdoor, wifi, kids-friendly, ...</td>\n",
       "      <td>oriental</td>\n",
       "      <td>outdoor</td>\n",
       "    </tr>\n",
       "    <tr>\n",
       "      <th>2</th>\n",
       "      <td>0</td>\n",
       "      <td>Maadi</td>\n",
       "      <td>3</td>\n",
       "      <td>['Egyptian' 'Oriental' 'Grill']</td>\n",
       "      <td>['No Smoking Area' 'Khorogat Iftar' 'Catering']</td>\n",
       "      <td>4</td>\n",
       "      <td>[egyptian, oriental, grill]</td>\n",
       "      <td>[nosmokingarea, khorogatiftar, catering]</td>\n",
       "      <td>grill</td>\n",
       "      <td>tv</td>\n",
       "    </tr>\n",
       "    <tr>\n",
       "      <th>3</th>\n",
       "      <td>0</td>\n",
       "      <td>Faisal</td>\n",
       "      <td>1</td>\n",
       "      <td>['Pizza' 'Fast Food']</td>\n",
       "      <td>['24 hrs']</td>\n",
       "      <td>1</td>\n",
       "      <td>[pizza, fast food]</td>\n",
       "      <td>[24hrs]</td>\n",
       "      <td>burgers</td>\n",
       "      <td>wifi</td>\n",
       "    </tr>\n",
       "    <tr>\n",
       "      <th>4</th>\n",
       "      <td>0</td>\n",
       "      <td>Maadi</td>\n",
       "      <td>1</td>\n",
       "      <td>['Egyptian' 'Oriental' 'Grill']</td>\n",
       "      <td>['No Smoking Area' 'Khorogat Iftar' 'Catering']</td>\n",
       "      <td>4</td>\n",
       "      <td>[egyptian, oriental, grill]</td>\n",
       "      <td>[nosmokingarea, khorogatiftar, catering]</td>\n",
       "      <td>sandwiches</td>\n",
       "      <td>grill</td>\n",
       "    </tr>\n",
       "  </tbody>\n",
       "</table>\n",
       "</div>"
      ],
      "text/plain": [
       "   discounted        area  nOrders                               cuisine  \\\n",
       "0           0  Heliopolis        1       ['Egyptian' 'Oriental' 'Grill']   \n",
       "1           0       Haram        1  ['Burgers' 'Sandwiches' 'Fast Food']   \n",
       "2           0       Maadi        3       ['Egyptian' 'Oriental' 'Grill']   \n",
       "3           0      Faisal        1                 ['Pizza' 'Fast Food']   \n",
       "4           0       Maadi        1       ['Egyptian' 'Oriental' 'Grill']   \n",
       "\n",
       "                                 restaurant_features  Ratings  \\\n",
       "0  ['No Smoking Area' 'Outdoor' 'TV' 'WiFi' 'Gril...        5   \n",
       "1  ['No Smoking Area' 'Outdoor' 'WiFi' 'Kids-Frie...        4   \n",
       "2    ['No Smoking Area' 'Khorogat Iftar' 'Catering']        4   \n",
       "3                                         ['24 hrs']        1   \n",
       "4    ['No Smoking Area' 'Khorogat Iftar' 'Catering']        4   \n",
       "\n",
       "                     Edited_cuisine  \\\n",
       "0       [egyptian, oriental, grill]   \n",
       "1  [burgers, sandwiches, fast food]   \n",
       "2       [egyptian, oriental, grill]   \n",
       "3                [pizza, fast food]   \n",
       "4       [egyptian, oriental, grill]   \n",
       "\n",
       "                                   Edited_restaurant Series_cuisine  \\\n",
       "0  [nosmokingarea, outdoor, tv, wifi, grill, cate...       egyptian   \n",
       "1  [nosmokingarea, outdoor, wifi, kids-friendly, ...       oriental   \n",
       "2           [nosmokingarea, khorogatiftar, catering]          grill   \n",
       "3                                            [24hrs]        burgers   \n",
       "4           [nosmokingarea, khorogatiftar, catering]     sandwiches   \n",
       "\n",
       "  Series_resturant  \n",
       "0    nosmokingarea  \n",
       "1          outdoor  \n",
       "2               tv  \n",
       "3             wifi  \n",
       "4            grill  "
      ]
     },
     "execution_count": 103,
     "metadata": {},
     "output_type": "execute_result"
    }
   ],
   "source": [
    "data.head()"
   ]
  },
  {
   "cell_type": "code",
   "execution_count": 33,
   "metadata": {},
   "outputs": [
    {
     "data": {
      "text/plain": [
       "(list, pandas.core.series.Series)"
      ]
     },
     "execution_count": 33,
     "metadata": {},
     "output_type": "execute_result"
    }
   ],
   "source": [
    "type(data['Edited_cuisine'][0]), type(data['Edited_restaurant'])\n"
   ]
  },
  {
   "cell_type": "code",
   "execution_count": 104,
   "metadata": {},
   "outputs": [],
   "source": [
    "area_dummies = pd.get_dummies(data['area'])\n"
   ]
  },
  {
   "cell_type": "code",
   "execution_count": 105,
   "metadata": {},
   "outputs": [
    {
     "name": "stderr",
     "output_type": "stream",
     "text": [
      "C:\\Users\\Dell\\AppData\\Local\\Temp\\ipykernel_18692\\3536970657.py:1: FutureWarning: Using the level keyword in DataFrame and Series aggregations is deprecated and will be removed in a future version. Use groupby instead. df.sum(level=1) should use df.groupby(level=1).sum().\n",
      "  cuisine_dummies=pd.get_dummies(data.Edited_cuisine.apply(pd.Series).stack()).sum(level=0)\n"
     ]
    }
   ],
   "source": [
    "cuisine_dummies=pd.get_dummies(data.Edited_cuisine.apply(pd.Series).stack()).sum(level=0)\n"
   ]
  },
  {
   "cell_type": "code",
   "execution_count": 39,
   "metadata": {},
   "outputs": [
    {
     "name": "stderr",
     "output_type": "stream",
     "text": [
      "C:\\Users\\Dell\\AppData\\Local\\Temp\\ipykernel_18692\\3104681306.py:1: FutureWarning: Using the level keyword in DataFrame and Series aggregations is deprecated and will be removed in a future version. Use groupby instead. df.sum(level=1) should use df.groupby(level=1).sum().\n",
      "  resturant_dummies=pd.get_dummies(data.Edited_restaurant.apply(pd.Series).stack()).sum(level=0)\n"
     ]
    }
   ],
   "source": [
    "resturant_dummies=pd.get_dummies(data.Edited_restaurant.apply(pd.Series).stack()).sum(level=0)\n"
   ]
  },
  {
   "cell_type": "code",
   "execution_count": 106,
   "metadata": {},
   "outputs": [],
   "source": [
    "Final_Data=pd.concat([data['discounted'],area_dummies,cuisine_dummies,resturant_dummies,data['nOrders'],data['Ratings']], axis=1)"
   ]
  },
  {
   "cell_type": "code",
   "execution_count": 108,
   "metadata": {},
   "outputs": [
    {
     "data": {
      "text/html": [
       "<div>\n",
       "<style scoped>\n",
       "    .dataframe tbody tr th:only-of-type {\n",
       "        vertical-align: middle;\n",
       "    }\n",
       "\n",
       "    .dataframe tbody tr th {\n",
       "        vertical-align: top;\n",
       "    }\n",
       "\n",
       "    .dataframe thead th {\n",
       "        text-align: right;\n",
       "    }\n",
       "</style>\n",
       "<table border=\"1\" class=\"dataframe\">\n",
       "  <thead>\n",
       "    <tr style=\"text-align: right;\">\n",
       "      <th></th>\n",
       "      <th>discounted</th>\n",
       "      <th>6th of October</th>\n",
       "      <th>Abbassiya</th>\n",
       "      <th>Agouza</th>\n",
       "      <th>Ain Shams</th>\n",
       "      <th>Al Katameya</th>\n",
       "      <th>Al Mokatam</th>\n",
       "      <th>Al Raml Station</th>\n",
       "      <th>Al Rehab City</th>\n",
       "      <th>Al Shatby</th>\n",
       "      <th>...</th>\n",
       "      <th>romantic</th>\n",
       "      <th>shisha</th>\n",
       "      <th>sohourwkhorouga</th>\n",
       "      <th>sokhnaseafood</th>\n",
       "      <th>streetfood</th>\n",
       "      <th>tv</th>\n",
       "      <th>wifi</th>\n",
       "      <th>workorstudy</th>\n",
       "      <th>nOrders</th>\n",
       "      <th>Ratings</th>\n",
       "    </tr>\n",
       "  </thead>\n",
       "  <tbody>\n",
       "    <tr>\n",
       "      <th>0</th>\n",
       "      <td>0</td>\n",
       "      <td>0</td>\n",
       "      <td>0</td>\n",
       "      <td>0</td>\n",
       "      <td>0</td>\n",
       "      <td>0</td>\n",
       "      <td>0</td>\n",
       "      <td>0</td>\n",
       "      <td>0</td>\n",
       "      <td>0</td>\n",
       "      <td>...</td>\n",
       "      <td>0</td>\n",
       "      <td>0</td>\n",
       "      <td>0</td>\n",
       "      <td>0</td>\n",
       "      <td>0</td>\n",
       "      <td>1</td>\n",
       "      <td>1</td>\n",
       "      <td>0</td>\n",
       "      <td>1</td>\n",
       "      <td>5</td>\n",
       "    </tr>\n",
       "    <tr>\n",
       "      <th>1</th>\n",
       "      <td>0</td>\n",
       "      <td>0</td>\n",
       "      <td>0</td>\n",
       "      <td>0</td>\n",
       "      <td>0</td>\n",
       "      <td>0</td>\n",
       "      <td>0</td>\n",
       "      <td>0</td>\n",
       "      <td>0</td>\n",
       "      <td>0</td>\n",
       "      <td>...</td>\n",
       "      <td>0</td>\n",
       "      <td>0</td>\n",
       "      <td>0</td>\n",
       "      <td>0</td>\n",
       "      <td>0</td>\n",
       "      <td>0</td>\n",
       "      <td>1</td>\n",
       "      <td>0</td>\n",
       "      <td>1</td>\n",
       "      <td>4</td>\n",
       "    </tr>\n",
       "    <tr>\n",
       "      <th>2</th>\n",
       "      <td>0</td>\n",
       "      <td>0</td>\n",
       "      <td>0</td>\n",
       "      <td>0</td>\n",
       "      <td>0</td>\n",
       "      <td>0</td>\n",
       "      <td>0</td>\n",
       "      <td>0</td>\n",
       "      <td>0</td>\n",
       "      <td>0</td>\n",
       "      <td>...</td>\n",
       "      <td>0</td>\n",
       "      <td>0</td>\n",
       "      <td>0</td>\n",
       "      <td>0</td>\n",
       "      <td>0</td>\n",
       "      <td>0</td>\n",
       "      <td>0</td>\n",
       "      <td>0</td>\n",
       "      <td>3</td>\n",
       "      <td>4</td>\n",
       "    </tr>\n",
       "    <tr>\n",
       "      <th>3</th>\n",
       "      <td>0</td>\n",
       "      <td>0</td>\n",
       "      <td>0</td>\n",
       "      <td>0</td>\n",
       "      <td>0</td>\n",
       "      <td>0</td>\n",
       "      <td>0</td>\n",
       "      <td>0</td>\n",
       "      <td>0</td>\n",
       "      <td>0</td>\n",
       "      <td>...</td>\n",
       "      <td>0</td>\n",
       "      <td>0</td>\n",
       "      <td>0</td>\n",
       "      <td>0</td>\n",
       "      <td>0</td>\n",
       "      <td>0</td>\n",
       "      <td>0</td>\n",
       "      <td>0</td>\n",
       "      <td>1</td>\n",
       "      <td>1</td>\n",
       "    </tr>\n",
       "    <tr>\n",
       "      <th>4</th>\n",
       "      <td>0</td>\n",
       "      <td>0</td>\n",
       "      <td>0</td>\n",
       "      <td>0</td>\n",
       "      <td>0</td>\n",
       "      <td>0</td>\n",
       "      <td>0</td>\n",
       "      <td>0</td>\n",
       "      <td>0</td>\n",
       "      <td>0</td>\n",
       "      <td>...</td>\n",
       "      <td>0</td>\n",
       "      <td>0</td>\n",
       "      <td>0</td>\n",
       "      <td>0</td>\n",
       "      <td>0</td>\n",
       "      <td>0</td>\n",
       "      <td>0</td>\n",
       "      <td>0</td>\n",
       "      <td>1</td>\n",
       "      <td>4</td>\n",
       "    </tr>\n",
       "  </tbody>\n",
       "</table>\n",
       "<p>5 rows × 119 columns</p>\n",
       "</div>"
      ],
      "text/plain": [
       "   discounted  6th of October  Abbassiya  Agouza  Ain Shams  Al Katameya  \\\n",
       "0           0               0          0       0          0            0   \n",
       "1           0               0          0       0          0            0   \n",
       "2           0               0          0       0          0            0   \n",
       "3           0               0          0       0          0            0   \n",
       "4           0               0          0       0          0            0   \n",
       "\n",
       "   Al Mokatam  Al Raml Station  Al Rehab City  Al Shatby  ...  romantic  \\\n",
       "0           0                0              0          0  ...         0   \n",
       "1           0                0              0          0  ...         0   \n",
       "2           0                0              0          0  ...         0   \n",
       "3           0                0              0          0  ...         0   \n",
       "4           0                0              0          0  ...         0   \n",
       "\n",
       "   shisha  sohourwkhorouga  sokhnaseafood  streetfood  tv  wifi  workorstudy  \\\n",
       "0       0                0              0           0   1     1            0   \n",
       "1       0                0              0           0   0     1            0   \n",
       "2       0                0              0           0   0     0            0   \n",
       "3       0                0              0           0   0     0            0   \n",
       "4       0                0              0           0   0     0            0   \n",
       "\n",
       "   nOrders  Ratings  \n",
       "0        1        5  \n",
       "1        1        4  \n",
       "2        3        4  \n",
       "3        1        1  \n",
       "4        1        4  \n",
       "\n",
       "[5 rows x 119 columns]"
      ]
     },
     "execution_count": 108,
     "metadata": {},
     "output_type": "execute_result"
    }
   ],
   "source": [
    "Final_Data.head()"
   ]
  },
  {
   "cell_type": "markdown",
   "metadata": {},
   "source": [
    "### Spliting the Data"
   ]
  },
  {
   "cell_type": "code",
   "execution_count": 117,
   "metadata": {},
   "outputs": [],
   "source": [
    "x = Final_Data.drop('Ratings' , axis=1)\n",
    "y = pd.get_dummies(data['Ratings'])\n"
   ]
  },
  {
   "cell_type": "code",
   "execution_count": 118,
   "metadata": {},
   "outputs": [],
   "source": [
    "X_train, X_test, Y_train, Y_test = train_test_split(x, y, test_size = 0.2, random_state = 215)\n"
   ]
  },
  {
   "cell_type": "markdown",
   "metadata": {},
   "source": [
    "### Machine Learning Models"
   ]
  },
  {
   "cell_type": "markdown",
   "metadata": {},
   "source": [
    "#### SVC Classifier"
   ]
  },
  {
   "cell_type": "code",
   "execution_count": 123,
   "metadata": {},
   "outputs": [],
   "source": [
    "x_ml = Final_Data.iloc[:, :-1].values\n",
    "y_ml = Final_Data.iloc[:, -1].values\n",
    "x_train, x_test, y_train, y_test = train_test_split(x_ml, y_ml, test_size = 0.2, random_state = 42)\n"
   ]
  },
  {
   "cell_type": "code",
   "execution_count": 124,
   "metadata": {},
   "outputs": [
    {
     "data": {
      "text/html": [
       "<style>#sk-container-id-2 {color: black;background-color: white;}#sk-container-id-2 pre{padding: 0;}#sk-container-id-2 div.sk-toggleable {background-color: white;}#sk-container-id-2 label.sk-toggleable__label {cursor: pointer;display: block;width: 100%;margin-bottom: 0;padding: 0.3em;box-sizing: border-box;text-align: center;}#sk-container-id-2 label.sk-toggleable__label-arrow:before {content: \"▸\";float: left;margin-right: 0.25em;color: #696969;}#sk-container-id-2 label.sk-toggleable__label-arrow:hover:before {color: black;}#sk-container-id-2 div.sk-estimator:hover label.sk-toggleable__label-arrow:before {color: black;}#sk-container-id-2 div.sk-toggleable__content {max-height: 0;max-width: 0;overflow: hidden;text-align: left;background-color: #f0f8ff;}#sk-container-id-2 div.sk-toggleable__content pre {margin: 0.2em;color: black;border-radius: 0.25em;background-color: #f0f8ff;}#sk-container-id-2 input.sk-toggleable__control:checked~div.sk-toggleable__content {max-height: 200px;max-width: 100%;overflow: auto;}#sk-container-id-2 input.sk-toggleable__control:checked~label.sk-toggleable__label-arrow:before {content: \"▾\";}#sk-container-id-2 div.sk-estimator input.sk-toggleable__control:checked~label.sk-toggleable__label {background-color: #d4ebff;}#sk-container-id-2 div.sk-label input.sk-toggleable__control:checked~label.sk-toggleable__label {background-color: #d4ebff;}#sk-container-id-2 input.sk-hidden--visually {border: 0;clip: rect(1px 1px 1px 1px);clip: rect(1px, 1px, 1px, 1px);height: 1px;margin: -1px;overflow: hidden;padding: 0;position: absolute;width: 1px;}#sk-container-id-2 div.sk-estimator {font-family: monospace;background-color: #f0f8ff;border: 1px dotted black;border-radius: 0.25em;box-sizing: border-box;margin-bottom: 0.5em;}#sk-container-id-2 div.sk-estimator:hover {background-color: #d4ebff;}#sk-container-id-2 div.sk-parallel-item::after {content: \"\";width: 100%;border-bottom: 1px solid gray;flex-grow: 1;}#sk-container-id-2 div.sk-label:hover label.sk-toggleable__label {background-color: #d4ebff;}#sk-container-id-2 div.sk-serial::before {content: \"\";position: absolute;border-left: 1px solid gray;box-sizing: border-box;top: 0;bottom: 0;left: 50%;z-index: 0;}#sk-container-id-2 div.sk-serial {display: flex;flex-direction: column;align-items: center;background-color: white;padding-right: 0.2em;padding-left: 0.2em;position: relative;}#sk-container-id-2 div.sk-item {position: relative;z-index: 1;}#sk-container-id-2 div.sk-parallel {display: flex;align-items: stretch;justify-content: center;background-color: white;position: relative;}#sk-container-id-2 div.sk-item::before, #sk-container-id-2 div.sk-parallel-item::before {content: \"\";position: absolute;border-left: 1px solid gray;box-sizing: border-box;top: 0;bottom: 0;left: 50%;z-index: -1;}#sk-container-id-2 div.sk-parallel-item {display: flex;flex-direction: column;z-index: 1;position: relative;background-color: white;}#sk-container-id-2 div.sk-parallel-item:first-child::after {align-self: flex-end;width: 50%;}#sk-container-id-2 div.sk-parallel-item:last-child::after {align-self: flex-start;width: 50%;}#sk-container-id-2 div.sk-parallel-item:only-child::after {width: 0;}#sk-container-id-2 div.sk-dashed-wrapped {border: 1px dashed gray;margin: 0 0.4em 0.5em 0.4em;box-sizing: border-box;padding-bottom: 0.4em;background-color: white;}#sk-container-id-2 div.sk-label label {font-family: monospace;font-weight: bold;display: inline-block;line-height: 1.2em;}#sk-container-id-2 div.sk-label-container {text-align: center;}#sk-container-id-2 div.sk-container {/* jupyter's `normalize.less` sets `[hidden] { display: none; }` but bootstrap.min.css set `[hidden] { display: none !important; }` so we also need the `!important` here to be able to override the default hidden behavior on the sphinx rendered scikit-learn.org. See: https://github.com/scikit-learn/scikit-learn/issues/21755 */display: inline-block !important;position: relative;}#sk-container-id-2 div.sk-text-repr-fallback {display: none;}</style><div id=\"sk-container-id-2\" class=\"sk-top-container\"><div class=\"sk-text-repr-fallback\"><pre>SVC()</pre><b>In a Jupyter environment, please rerun this cell to show the HTML representation or trust the notebook. <br />On GitHub, the HTML representation is unable to render, please try loading this page with nbviewer.org.</b></div><div class=\"sk-container\" hidden><div class=\"sk-item\"><div class=\"sk-estimator sk-toggleable\"><input class=\"sk-toggleable__control sk-hidden--visually\" id=\"sk-estimator-id-2\" type=\"checkbox\" checked><label for=\"sk-estimator-id-2\" class=\"sk-toggleable__label sk-toggleable__label-arrow\">SVC</label><div class=\"sk-toggleable__content\"><pre>SVC()</pre></div></div></div></div></div>"
      ],
      "text/plain": [
       "SVC()"
      ]
     },
     "execution_count": 124,
     "metadata": {},
     "output_type": "execute_result"
    }
   ],
   "source": [
    "svc_model = SVC()\n",
    "svc_model.fit(x_train, y_train)"
   ]
  },
  {
   "cell_type": "code",
   "execution_count": 125,
   "metadata": {},
   "outputs": [],
   "source": [
    "svc_predict = svc_model.predict(x_test)\n"
   ]
  },
  {
   "cell_type": "code",
   "execution_count": 126,
   "metadata": {},
   "outputs": [
    {
     "data": {
      "text/plain": [
       "0.9944566929133858"
      ]
     },
     "execution_count": 126,
     "metadata": {},
     "output_type": "execute_result"
    }
   ],
   "source": [
    "f1_score(y_test, svc_predict,average='micro')\n"
   ]
  },
  {
   "cell_type": "markdown",
   "metadata": {},
   "source": [
    "#### Random Forest Classifier"
   ]
  },
  {
   "cell_type": "code",
   "execution_count": 111,
   "metadata": {},
   "outputs": [
    {
     "data": {
      "text/html": [
       "<style>#sk-container-id-1 {color: black;background-color: white;}#sk-container-id-1 pre{padding: 0;}#sk-container-id-1 div.sk-toggleable {background-color: white;}#sk-container-id-1 label.sk-toggleable__label {cursor: pointer;display: block;width: 100%;margin-bottom: 0;padding: 0.3em;box-sizing: border-box;text-align: center;}#sk-container-id-1 label.sk-toggleable__label-arrow:before {content: \"▸\";float: left;margin-right: 0.25em;color: #696969;}#sk-container-id-1 label.sk-toggleable__label-arrow:hover:before {color: black;}#sk-container-id-1 div.sk-estimator:hover label.sk-toggleable__label-arrow:before {color: black;}#sk-container-id-1 div.sk-toggleable__content {max-height: 0;max-width: 0;overflow: hidden;text-align: left;background-color: #f0f8ff;}#sk-container-id-1 div.sk-toggleable__content pre {margin: 0.2em;color: black;border-radius: 0.25em;background-color: #f0f8ff;}#sk-container-id-1 input.sk-toggleable__control:checked~div.sk-toggleable__content {max-height: 200px;max-width: 100%;overflow: auto;}#sk-container-id-1 input.sk-toggleable__control:checked~label.sk-toggleable__label-arrow:before {content: \"▾\";}#sk-container-id-1 div.sk-estimator input.sk-toggleable__control:checked~label.sk-toggleable__label {background-color: #d4ebff;}#sk-container-id-1 div.sk-label input.sk-toggleable__control:checked~label.sk-toggleable__label {background-color: #d4ebff;}#sk-container-id-1 input.sk-hidden--visually {border: 0;clip: rect(1px 1px 1px 1px);clip: rect(1px, 1px, 1px, 1px);height: 1px;margin: -1px;overflow: hidden;padding: 0;position: absolute;width: 1px;}#sk-container-id-1 div.sk-estimator {font-family: monospace;background-color: #f0f8ff;border: 1px dotted black;border-radius: 0.25em;box-sizing: border-box;margin-bottom: 0.5em;}#sk-container-id-1 div.sk-estimator:hover {background-color: #d4ebff;}#sk-container-id-1 div.sk-parallel-item::after {content: \"\";width: 100%;border-bottom: 1px solid gray;flex-grow: 1;}#sk-container-id-1 div.sk-label:hover label.sk-toggleable__label {background-color: #d4ebff;}#sk-container-id-1 div.sk-serial::before {content: \"\";position: absolute;border-left: 1px solid gray;box-sizing: border-box;top: 0;bottom: 0;left: 50%;z-index: 0;}#sk-container-id-1 div.sk-serial {display: flex;flex-direction: column;align-items: center;background-color: white;padding-right: 0.2em;padding-left: 0.2em;position: relative;}#sk-container-id-1 div.sk-item {position: relative;z-index: 1;}#sk-container-id-1 div.sk-parallel {display: flex;align-items: stretch;justify-content: center;background-color: white;position: relative;}#sk-container-id-1 div.sk-item::before, #sk-container-id-1 div.sk-parallel-item::before {content: \"\";position: absolute;border-left: 1px solid gray;box-sizing: border-box;top: 0;bottom: 0;left: 50%;z-index: -1;}#sk-container-id-1 div.sk-parallel-item {display: flex;flex-direction: column;z-index: 1;position: relative;background-color: white;}#sk-container-id-1 div.sk-parallel-item:first-child::after {align-self: flex-end;width: 50%;}#sk-container-id-1 div.sk-parallel-item:last-child::after {align-self: flex-start;width: 50%;}#sk-container-id-1 div.sk-parallel-item:only-child::after {width: 0;}#sk-container-id-1 div.sk-dashed-wrapped {border: 1px dashed gray;margin: 0 0.4em 0.5em 0.4em;box-sizing: border-box;padding-bottom: 0.4em;background-color: white;}#sk-container-id-1 div.sk-label label {font-family: monospace;font-weight: bold;display: inline-block;line-height: 1.2em;}#sk-container-id-1 div.sk-label-container {text-align: center;}#sk-container-id-1 div.sk-container {/* jupyter's `normalize.less` sets `[hidden] { display: none; }` but bootstrap.min.css set `[hidden] { display: none !important; }` so we also need the `!important` here to be able to override the default hidden behavior on the sphinx rendered scikit-learn.org. See: https://github.com/scikit-learn/scikit-learn/issues/21755 */display: inline-block !important;position: relative;}#sk-container-id-1 div.sk-text-repr-fallback {display: none;}</style><div id=\"sk-container-id-1\" class=\"sk-top-container\"><div class=\"sk-text-repr-fallback\"><pre>RandomForestClassifier(random_state=0)</pre><b>In a Jupyter environment, please rerun this cell to show the HTML representation or trust the notebook. <br />On GitHub, the HTML representation is unable to render, please try loading this page with nbviewer.org.</b></div><div class=\"sk-container\" hidden><div class=\"sk-item\"><div class=\"sk-estimator sk-toggleable\"><input class=\"sk-toggleable__control sk-hidden--visually\" id=\"sk-estimator-id-1\" type=\"checkbox\" checked><label for=\"sk-estimator-id-1\" class=\"sk-toggleable__label sk-toggleable__label-arrow\">RandomForestClassifier</label><div class=\"sk-toggleable__content\"><pre>RandomForestClassifier(random_state=0)</pre></div></div></div></div></div>"
      ],
      "text/plain": [
       "RandomForestClassifier(random_state=0)"
      ]
     },
     "execution_count": 111,
     "metadata": {},
     "output_type": "execute_result"
    }
   ],
   "source": [
    "Random_Forest = RandomForestClassifier(random_state=0)\n",
    "Random_Forest.fit(X_train,Y_train)\n",
    "\n"
   ]
  },
  {
   "cell_type": "code",
   "execution_count": 112,
   "metadata": {},
   "outputs": [],
   "source": [
    "Ratings_pred = Random_Forest.predict(X_test)\n"
   ]
  },
  {
   "cell_type": "code",
   "execution_count": 113,
   "metadata": {},
   "outputs": [
    {
     "name": "stdout",
     "output_type": "stream",
     "text": [
      "0.9984881889763779\n"
     ]
    }
   ],
   "source": [
    "Model_f1_score = Random_Forest.score(X_test,Y_test)\n",
    "print(Model_f1_score)"
   ]
  },
  {
   "cell_type": "markdown",
   "metadata": {},
   "source": [
    "### Deep Learning Model"
   ]
  },
  {
   "cell_type": "code",
   "execution_count": 50,
   "metadata": {},
   "outputs": [],
   "source": [
    "model=keras.models.Sequential([\n",
    "    keras.layers.InputLayer(input_shape=(118)),\n",
    "    keras.layers.Dense(300,activation='relu'),\n",
    "    keras.layers.Dropout(0.5),\n",
    "    keras.layers.Dense(120,activation='relu'),\n",
    "    keras.layers.Dropout(0.5),\n",
    "\n",
    "    keras.layers.Dense(32,activation='relu'),\n",
    "    keras.layers.Dense(5, activation='softmax')\n",
    "])\n",
    "\n",
    "\n"
   ]
  },
  {
   "cell_type": "code",
   "execution_count": 51,
   "metadata": {},
   "outputs": [
    {
     "name": "stdout",
     "output_type": "stream",
     "text": [
      "Model: \"sequential_1\"\n",
      "_________________________________________________________________\n",
      " Layer (type)                Output Shape              Param #   \n",
      "=================================================================\n",
      " dense_2 (Dense)             (None, 300)               35700     \n",
      "                                                                 \n",
      " dropout_1 (Dropout)         (None, 300)               0         \n",
      "                                                                 \n",
      " dense_3 (Dense)             (None, 120)               36120     \n",
      "                                                                 \n",
      " dropout_2 (Dropout)         (None, 120)               0         \n",
      "                                                                 \n",
      " dense_4 (Dense)             (None, 32)                3872      \n",
      "                                                                 \n",
      " dense_5 (Dense)             (None, 5)                 165       \n",
      "                                                                 \n",
      "=================================================================\n",
      "Total params: 75,857\n",
      "Trainable params: 75,857\n",
      "Non-trainable params: 0\n",
      "_________________________________________________________________\n"
     ]
    }
   ],
   "source": [
    "model.summary()"
   ]
  },
  {
   "cell_type": "code",
   "execution_count": 52,
   "metadata": {},
   "outputs": [
    {
     "name": "stdout",
     "output_type": "stream",
     "text": [
      "Epoch 1/100\n",
      "1985/1985 [==============================] - 8s 3ms/step - loss: 0.4754 - accuracy: 0.8190\n",
      "Epoch 2/100\n",
      "1985/1985 [==============================] - 6s 3ms/step - loss: 0.1103 - accuracy: 0.9644\n",
      "Epoch 3/100\n",
      "1985/1985 [==============================] - 7s 3ms/step - loss: 0.0661 - accuracy: 0.9791\n",
      "Epoch 4/100\n",
      "1985/1985 [==============================] - 7s 4ms/step - loss: 0.0497 - accuracy: 0.9841\n",
      "Epoch 5/100\n",
      "1985/1985 [==============================] - 7s 4ms/step - loss: 0.0427 - accuracy: 0.9860\n",
      "Epoch 6/100\n",
      "1985/1985 [==============================] - 7s 4ms/step - loss: 0.0363 - accuracy: 0.9880\n",
      "Epoch 7/100\n",
      "1985/1985 [==============================] - 7s 4ms/step - loss: 0.0332 - accuracy: 0.9888\n",
      "Epoch 8/100\n",
      "1985/1985 [==============================] - 8s 4ms/step - loss: 0.0297 - accuracy: 0.9908\n",
      "Epoch 9/100\n",
      "1985/1985 [==============================] - 7s 3ms/step - loss: 0.0282 - accuracy: 0.9912\n",
      "Epoch 10/100\n",
      "1985/1985 [==============================] - 8s 4ms/step - loss: 0.0288 - accuracy: 0.9910\n",
      "Epoch 11/100\n",
      "1985/1985 [==============================] - 7s 3ms/step - loss: 0.0253 - accuracy: 0.9920\n",
      "Epoch 12/100\n",
      "1985/1985 [==============================] - 10s 5ms/step - loss: 0.0215 - accuracy: 0.9935\n",
      "Epoch 13/100\n",
      "1985/1985 [==============================] - 9s 4ms/step - loss: 0.0222 - accuracy: 0.9930\n",
      "Epoch 14/100\n",
      "1985/1985 [==============================] - 7s 4ms/step - loss: 0.0220 - accuracy: 0.9927\n",
      "Epoch 15/100\n",
      "1985/1985 [==============================] - 7s 4ms/step - loss: 0.0204 - accuracy: 0.9932\n",
      "Epoch 16/100\n",
      "1985/1985 [==============================] - 7s 3ms/step - loss: 0.0214 - accuracy: 0.9937\n",
      "Epoch 17/100\n",
      "1985/1985 [==============================] - 7s 3ms/step - loss: 0.0205 - accuracy: 0.9940\n",
      "Epoch 18/100\n",
      "1985/1985 [==============================] - 7s 3ms/step - loss: 0.0169 - accuracy: 0.9947\n",
      "Epoch 19/100\n",
      "1985/1985 [==============================] - 7s 4ms/step - loss: 0.0173 - accuracy: 0.9944\n",
      "Epoch 20/100\n",
      "1985/1985 [==============================] - 8s 4ms/step - loss: 0.0175 - accuracy: 0.9943\n",
      "Epoch 21/100\n",
      "1985/1985 [==============================] - 7s 4ms/step - loss: 0.0174 - accuracy: 0.9948\n",
      "Epoch 22/100\n",
      "1985/1985 [==============================] - 7s 4ms/step - loss: 0.0160 - accuracy: 0.9952\n",
      "Epoch 23/100\n",
      "1985/1985 [==============================] - 7s 4ms/step - loss: 0.0163 - accuracy: 0.9946\n",
      "Epoch 24/100\n",
      "1985/1985 [==============================] - 9s 5ms/step - loss: 0.0153 - accuracy: 0.9953\n",
      "Epoch 25/100\n",
      "1985/1985 [==============================] - 8s 4ms/step - loss: 0.0140 - accuracy: 0.9955\n",
      "Epoch 26/100\n",
      "1985/1985 [==============================] - 7s 3ms/step - loss: 0.0142 - accuracy: 0.9954\n",
      "Epoch 27/100\n",
      "1985/1985 [==============================] - 7s 3ms/step - loss: 0.0151 - accuracy: 0.9954\n",
      "Epoch 28/100\n",
      "1985/1985 [==============================] - 8s 4ms/step - loss: 0.0130 - accuracy: 0.9961\n",
      "Epoch 29/100\n",
      "1985/1985 [==============================] - 7s 4ms/step - loss: 0.0144 - accuracy: 0.9957\n",
      "Epoch 30/100\n",
      "1985/1985 [==============================] - 10s 5ms/step - loss: 0.0133 - accuracy: 0.9959\n",
      "Epoch 31/100\n",
      "1985/1985 [==============================] - 8s 4ms/step - loss: 0.0138 - accuracy: 0.9956\n",
      "Epoch 32/100\n",
      "1985/1985 [==============================] - 6s 3ms/step - loss: 0.0130 - accuracy: 0.9957\n",
      "Epoch 33/100\n",
      "1985/1985 [==============================] - 6s 3ms/step - loss: 0.0128 - accuracy: 0.9960\n"
     ]
    },
    {
     "data": {
      "text/plain": [
       "<keras.callbacks.History at 0x21433ea41f0>"
      ]
     },
     "execution_count": 52,
     "metadata": {},
     "output_type": "execute_result"
    }
   ],
   "source": [
    "optimizer=tf.keras.optimizers.Adam(0.001)\n",
    "es = EarlyStopping(monitor='accuracy' , mode='max' , patience=5)\n",
    "model.compile(optimizer='adam' , loss=tf.keras.losses.categorical_crossentropy ,metrics=['accuracy'])\n",
    "model.fit(X_train,Y_train,epochs=100 , callbacks=[es])  \n"
   ]
  },
  {
   "cell_type": "code",
   "execution_count": 127,
   "metadata": {},
   "outputs": [
    {
     "name": "stdout",
     "output_type": "stream",
     "text": [
      "497/497 [==============================] - 1s 2ms/step - loss: 0.0051 - accuracy: 0.9985\n"
     ]
    },
    {
     "data": {
      "text/plain": [
       "[0.005099721252918243, 0.998488187789917]"
      ]
     },
     "execution_count": 127,
     "metadata": {},
     "output_type": "execute_result"
    }
   ],
   "source": [
    "model.evaluate(X_test,Y_test)\n"
   ]
  }
 ],
 "metadata": {
  "kernelspec": {
   "display_name": "Python 3 (ipykernel)",
   "language": "python",
   "name": "python3"
  },
  "language_info": {
   "codemirror_mode": {
    "name": "ipython",
    "version": 3
   },
   "file_extension": ".py",
   "mimetype": "text/x-python",
   "name": "python",
   "nbconvert_exporter": "python",
   "pygments_lexer": "ipython3",
   "version": "3.9.13"
  },
  "vscode": {
   "interpreter": {
    "hash": "ad2bdc8ecc057115af97d19610ffacc2b4e99fae6737bb82f5d7fb13d2f2c186"
   }
  }
 },
 "nbformat": 4,
 "nbformat_minor": 2
}
