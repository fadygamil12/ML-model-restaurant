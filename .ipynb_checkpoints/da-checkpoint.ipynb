{
 "cells": [
  {
   "cell_type": "code",
   "execution_count": 1,
   "id": "eb771332",
   "metadata": {},
   "outputs": [],
   "source": [
    "import pandas as pd\n",
    "import numpy as np"
   ]
  },
  {
   "cell_type": "code",
   "execution_count": 2,
   "id": "5e143c30",
   "metadata": {},
   "outputs": [],
   "source": [
    "data = pd.read_pickle('final6.pkl')"
   ]
  },
  {
   "cell_type": "code",
   "execution_count": 9,
   "id": "dd04b27e",
   "metadata": {},
   "outputs": [],
   "source": [
    "\n",
    "for i in range(len(data)):\n",
    "    for j in range(len(data['restaurant_features'][i])):\n",
    "        if \"[\" in data['restaurant_features'][i][j]:\n",
    "            print('error')"
   ]
  },
  {
   "cell_type": "code",
   "execution_count": 15,
   "id": "a0d5a05e",
   "metadata": {},
   "outputs": [],
   "source": [
    "data = data.drop('restaurant_uuid' , axis=1) "
   ]
  },
  {
   "cell_type": "code",
   "execution_count": 29,
   "id": "5043565e",
   "metadata": {},
   "outputs": [
    {
     "ename": "NameError",
     "evalue": "name 'lower' is not defined",
     "output_type": "error",
     "traceback": [
      "\u001b[1;31m---------------------------------------------------------------------------\u001b[0m",
      "\u001b[1;31mNameError\u001b[0m                                 Traceback (most recent call last)",
      "Cell \u001b[1;32mIn[29], line 2\u001b[0m\n\u001b[0;32m      1\u001b[0m \u001b[38;5;28;01mfor\u001b[39;00m i \u001b[38;5;129;01min\u001b[39;00m \u001b[38;5;28mrange\u001b[39m(\u001b[38;5;28mlen\u001b[39m(data)):\n\u001b[1;32m----> 2\u001b[0m     data[\u001b[38;5;124m'\u001b[39m\u001b[38;5;124mcuisine\u001b[39m\u001b[38;5;124m'\u001b[39m][i]\u001b[38;5;241m=\u001b[39m \u001b[38;5;28mlist\u001b[39m(\u001b[38;5;28mmap\u001b[39m(\u001b[43mlower\u001b[49m(),data[\u001b[38;5;124m'\u001b[39m\u001b[38;5;124mcuisine\u001b[39m\u001b[38;5;124m'\u001b[39m][i]))\n",
      "\u001b[1;31mNameError\u001b[0m: name 'lower' is not defined"
     ]
    }
   ],
   "source": [
    "for i in range(len(data)):\n",
    "    data['cuisine'][i]= list(map(lower(),data['cuisine'][i]))"
   ]
  },
  {
   "cell_type": "code",
   "execution_count": 21,
   "id": "bfb4957c",
   "metadata": {},
   "outputs": [],
   "source": [
    "cf = pd.Series([x for l in data['cuisine'] for x in l])"
   ]
  },
  {
   "cell_type": "code",
   "execution_count": 25,
   "id": "5fb1649a",
   "metadata": {},
   "outputs": [
    {
     "data": {
      "text/plain": [
       "array(['Egyptian', 'Oriental', 'Grill', 'Burgers', 'Sandwiches',\n",
       "       'Fast Food', 'Pizza', 'Bakeries and Pastries', 'Foul we Ta3meya',\n",
       "       'Desserts', 'Chicken', 'Syrian', 'International', 'Vegetarian',\n",
       "       'Koshary', 'German', 'American', 'Asian', 'Chinese', 'Italian',\n",
       "       'Seafood', 'Tarts and chocolates', 'Coffee & Drinks', 'French',\n",
       "       'Steaks', 'Japanese', 'Sushi', 'Lebanese', 'Tex-Mex', 'Turkish',\n",
       "       'Indian', 'European', 'Mexican', 'Thai', 'Spanish', 'Argentinian'],\n",
       "      dtype=object)"
      ]
     },
     "execution_count": 25,
     "metadata": {},
     "output_type": "execute_result"
    }
   ],
   "source": [
    "cf.unique()"
   ]
  },
  {
   "cell_type": "code",
   "execution_count": null,
   "id": "640986df",
   "metadata": {},
   "outputs": [],
   "source": []
  }
 ],
 "metadata": {
  "kernelspec": {
   "display_name": "Python 3 (ipykernel)",
   "language": "python",
   "name": "python3"
  },
  "language_info": {
   "codemirror_mode": {
    "name": "ipython",
    "version": 3
   },
   "file_extension": ".py",
   "mimetype": "text/x-python",
   "name": "python",
   "nbconvert_exporter": "python",
   "pygments_lexer": "ipython3",
   "version": "3.9.1"
  }
 },
 "nbformat": 4,
 "nbformat_minor": 5
}
